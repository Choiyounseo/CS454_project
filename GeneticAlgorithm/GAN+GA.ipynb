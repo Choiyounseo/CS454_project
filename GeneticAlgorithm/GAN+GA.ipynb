{
  "nbformat": 4,
  "nbformat_minor": 0,
  "metadata": {
    "colab": {
      "name": "GAN+GA.ipynb",
      "provenance": [],
      "collapsed_sections": []
    },
    "kernelspec": {
      "name": "python3",
      "display_name": "Python 3"
    }
  },
  "cells": [
    {
      "cell_type": "code",
      "metadata": {
        "id": "5BZrb3knlLqn",
        "colab_type": "code",
        "colab": {
          "base_uri": "https://localhost:8080/",
          "height": 50
        },
        "outputId": "903855e3-5aa2-4288-b968-610906cc379d"
      },
      "source": [
        "pip install deap"
      ],
      "execution_count": 1,
      "outputs": [
        {
          "output_type": "stream",
          "text": [
            "Requirement already satisfied: deap in /usr/local/lib/python3.6/dist-packages (1.3.0)\n",
            "Requirement already satisfied: numpy in /usr/local/lib/python3.6/dist-packages (from deap) (1.17.4)\n"
          ],
          "name": "stdout"
        }
      ]
    },
    {
      "cell_type": "code",
      "metadata": {
        "id": "j6KCDNJNmCqe",
        "colab_type": "code",
        "colab": {
          "base_uri": "https://localhost:8080/",
          "height": 33
        },
        "outputId": "da50b2cd-be0f-4b97-a955-ba9a0d1873c0"
      },
      "source": [
        "from google.colab import drive\n",
        "\n",
        "drive.mount('/gdrive')\n",
        "gdrive_root = '/gdrive/My Drive'\n",
        "gdrive_data = '/gdrive/My Drive/my_data/CS454_modelC'"
      ],
      "execution_count": 2,
      "outputs": [
        {
          "output_type": "stream",
          "text": [
            "Drive already mounted at /gdrive; to attempt to forcibly remount, call drive.mount(\"/gdrive\", force_remount=True).\n"
          ],
          "name": "stdout"
        }
      ]
    },
    {
      "cell_type": "code",
      "metadata": {
        "id": "OwXRTu0KldZ_",
        "colab_type": "code",
        "colab": {}
      },
      "source": [
        "import torch.nn as nn\n",
        "\n",
        "class Generator(nn.Module):\n",
        "    def __init__(self, ngpu, nc, nz, ngf):\n",
        "        super(Generator, self).__init__()\n",
        "        self.ngpu = ngpu\n",
        "        self.main = nn.Sequential(\n",
        "            # input is Z, going into a convolution\n",
        "            nn.ConvTranspose2d(nz, ngf * 8, 7, 1, 0, bias=False),\n",
        "            nn.BatchNorm2d(ngf * 8),\n",
        "            nn.ReLU(True),\n",
        "            # state size. (ngf*8) x 7 x 7\n",
        "            nn.ConvTranspose2d(ngf * 8, ngf * 4, 3, 1, 1, bias=False),\n",
        "            nn.BatchNorm2d(ngf * 4),\n",
        "            nn.ReLU(True),\n",
        "            # state size. (ngf*4) x 7 x 7\n",
        "            nn.ConvTranspose2d(ngf * 4, ngf * 2, 4, 2, 1, bias=False),\n",
        "            nn.BatchNorm2d(ngf * 2),\n",
        "            nn.ReLU(True),\n",
        "            # state size. (ngf*2) x 14 x 14\n",
        "            nn.ConvTranspose2d(ngf * 2, ngf, 3, 1, 1, bias=False),\n",
        "            nn.BatchNorm2d(ngf),\n",
        "            nn.ReLU(True),\n",
        "            # state size. (ngf) x 14 x 14\n",
        "            nn.ConvTranspose2d(ngf, nc, 4, 2, 1, bias=False),\n",
        "            nn.Tanh()\n",
        "            # state size. (nc) x 28 x 28\n",
        "        )\n",
        "\n",
        "    def forward(self, input):\n",
        "        return self.main(input)"
      ],
      "execution_count": 0,
      "outputs": []
    },
    {
      "cell_type": "code",
      "metadata": {
        "id": "r02KmvHGmKJY",
        "colab_type": "code",
        "colab": {
          "base_uri": "https://localhost:8080/",
          "height": 33
        },
        "outputId": "194fa876-df0e-4c81-9510-84c4b5a0e86a"
      },
      "source": [
        "import torch\n",
        "import torch.nn as nn\n",
        "import torch.optim as optim\n",
        "import torchvision.utils as utils\n",
        "import torchvision.datasets as dsets\n",
        "import torchvision.transforms as transforms\n",
        "import numpy as np\n",
        "from matplotlib import pyplot as plt\n",
        "from torchvision import datasets, transforms\n",
        "import torchvision.transforms.functional as TF\n",
        "from torch.utils.data import DataLoader\n",
        "from PIL import Image\n",
        "\n",
        "def imshow(img):\n",
        "    img = (img + 1) / 2\n",
        "    img = img.squeeze()\n",
        "    np_img = img.numpy()\n",
        "    plt.imshow(np_img, cmap='gray')\n",
        "    plt.show()\n",
        "\n",
        "def imshow_grid(img):\n",
        "    img = utils.make_grid(img.cpu().detach())\n",
        "    img = (img + 1) / 2\n",
        "    npimg = img.numpy()\n",
        "    plt.imshow(np.transpose(npimg, (1, 2, 0)))\n",
        "    plt.show()\n",
        "\n",
        "# Hyper parameters\n",
        "params = {\n",
        "    'input_size': 28,  # image size 1x64x64\n",
        "    'batch_size': 64,  # batch size\n",
        "    'pop_size': 100,   # population size\n",
        "    'nc': 1,  # number of channels\n",
        "    'nz': 100,  # size of z latent vector\n",
        "    'ngf': 64,  # size of feature maps in generator\n",
        "    'ndf': 32,  # size of feature maps in discriminator\n",
        "    'num_epochs': 1000,  # number of epochs\n",
        "    'lr': 0.0001,  # learning rate\n",
        "    'beta1': 0.5,   # beta1 for adam optimizer\n",
        "    'ngpu': 1,  # number of GPU\n",
        "    'lambda_gp': 10,  # loss weight for gradient penalty\n",
        "    'n_critic': 5,\n",
        "}\n",
        "\n",
        "#device = torch.device('cuda' if torch.cuda.is_available() else 'cpu')\n",
        "# Generator(ngpu, nc, nz, ngf)\n",
        "# 이 부분에서 체크포인트 위치 설정.\n",
        "netG = Generator(params['ngpu'], params['nc'], params['nz'], params['ngf'])\n",
        "netG.load_state_dict(torch.load(gdrive_root + '/checkpoints/netG_10000.pth', map_location=torch.device('cpu')))\n",
        "\n",
        "# transform\n",
        "transform = transforms.Compose([transforms.ToTensor()])\n",
        "# transform = transforms.Compose([transforms.ToTensor(),\n",
        "#                                transforms.Normalize(mean=(0.5,), std=(0.5,))])\n",
        "# data sets and data loader\n",
        "train_data = datasets.MNIST(root='data/', train=True, transform=transform, download=True)\n",
        "train_data_loader = DataLoader(train_data, params['batch_size'], shuffle=False)\n",
        "first_batch = train_data_loader.__iter__().__next__()  # first batch of MNIST data set : torch.Size([64x, 1, 28, 28])\n",
        "print(first_batch[0][0].shape)  # torch.Size([1, 28, 28])"
      ],
      "execution_count": 4,
      "outputs": [
        {
          "output_type": "stream",
          "text": [
            "torch.Size([1, 28, 28])\n"
          ],
          "name": "stdout"
        }
      ]
    },
    {
      "cell_type": "code",
      "metadata": {
        "id": "zxREQRNHrbZf",
        "colab_type": "code",
        "colab": {
          "base_uri": "https://localhost:8080/",
          "height": 264
        },
        "outputId": "00448a0b-e833-4cc9-8270-78084eb0eb5d"
      },
      "source": [
        "# Input image for defense GAN\n",
        "# For the test purpose, we will use MNIST data sample first.\n",
        "'''\n",
        "fgsm_image_batch = first_batch[0][0]  # torch.Size([1, 28, 28]). This should be fgsm_image later on.\n",
        "\n",
        "# evalFunc 에서 numpy 형태로 계산하려고 모양 수정 / 일단은 그냥 28, 28로 했는데 나중엔 일렬로 계산해도 될 듯.\n",
        "x = fgsm_image_batch.view(28,28).numpy()\n",
        "\n",
        "imshow(fgsm_image_batch)\n",
        "'''\n",
        "\n",
        "\n",
        "my_image = Image.open(gdrive_data + '/0.15-1to7.jpg')\n",
        "fgsm_image = TF.to_tensor(my_image)\n",
        "\n",
        "# evalFunc 에서 numpy 형태로 계산하려고 모양 수정 / 일단은 그냥 28, 28로 했는데 나중엔 일렬로 계산해도 될 듯.\n",
        "x = fgsm_image.view(28,28).numpy()\n",
        "imshow(fgsm_image)\n",
        "\n",
        "# Initial population for GA\n",
        "# initial_population : torch.Size([100, 100, 1, 1]), This has 100 latent vectors z (z is torch.Size([100, 1, 1])).\n",
        "# for example, initial_population[0] is z_0, initial_population[1] is z_1, ..., initial_population[99] is z_99.\n",
        "initial_population = torch.FloatTensor(params['pop_size'], params['nz'], 1, 1).normal_(0, 1)\n",
        "\n",
        "# initial_population를 numpy로 타입 맞춰주기.\n",
        "initial_population = initial_population.view(100, 100).numpy()\n",
        "\n",
        "def initIndividual(icls, content):\n",
        "  return icls(content)\n",
        "\n",
        "def initPopulation(pcls, ind_init):\n",
        "  return pcls(ind_init(c) for c in initial_population)"
      ],
      "execution_count": 5,
      "outputs": [
        {
          "output_type": "display_data",
          "data": {
            "image/png": "[encoded data removed]",
            "text/plain": [
              "<Figure size 432x288 with 1 Axes>"
            ]
          },
          "metadata": {
            "tags": []
          }
        }
      ]
    },
    {
      "cell_type": "code",
      "metadata": {
        "id": "navWYmQBsJUW",
        "colab_type": "code",
        "colab": {}
      },
      "source": [
        "import random\n",
        "from deap import creator, base, tools, algorithms\n",
        "\n",
        "# TOCHECK:  will we use algorithm modules?\n",
        "\n",
        "'''\n",
        "Fitness : single optimization, minimize ||G(z) - x||^2_2\n",
        "'''\n",
        "creator.create(\"FitnessMin\", base.Fitness, weights=(-1.0,))\n",
        "creator.create(\"Individual\", np.ndarray, fitness=creator.FitnessMin) # minimizing the fitness value\n",
        "\n",
        "toolbox = base.Toolbox()\n",
        "\n",
        "'''\n",
        "[HYPERPARAMETERS]\n",
        "List of Floats: individuals composed of 'IND_SIZE' floating point numbers\n",
        "IND_SIZE: z의 dimension으로 보면 될듯\n",
        "POPULATION\n",
        "CXPB: probability of crossover\n",
        "MUTPB: probability of mutation\n",
        "'''\n",
        "IND_SIZE = 100\n",
        "POPULATION = 100\n",
        "CXPB, MUTPB = 0.4, 0.2\n",
        "GENERATIONS = 100\n",
        "\n",
        "toolbox.register(\"attr_float\", random.random)\n",
        "# toolbox.register(\"individual\", tools.initRepeat, creator.Individual, toolbox.attr_float, n=IND_SIZE)\n",
        "toolbox.register(\"individual\", initIndividual, creator.Individual)\n",
        "toolbox.register(\"population\", initPopulation, list, toolbox.individual)"
      ],
      "execution_count": 0,
      "outputs": []
    },
    {
      "cell_type": "code",
      "metadata": {
        "id": "EO-h_eSNry73",
        "colab_type": "code",
        "colab": {}
      },
      "source": [
        "def cxTwoPointCopy(ind1, ind2):\n",
        "    \"\"\"Execute a two points crossover with copy on the input individuals. The\n",
        "    copy is required because the slicing in numpy returns a view of the data,\n",
        "    which leads to a self overwritting in the swap operation. It prevents\n",
        "    ::\n",
        "    \n",
        "        >>> import numpy\n",
        "        >>> a = numpy.array((1,2,3,4))\n",
        "        >>> b = numpy.array((5,6,7,8))\n",
        "        >>> a[1:3], b[1:3] = b[1:3], a[1:3]\n",
        "        >>> print(a)\n",
        "        [1 6 7 4]\n",
        "        >>> print(b)\n",
        "        [5 6 7 8]\n",
        "    \"\"\"\n",
        "    size = len(ind1)\n",
        "    cxpoint1 = random.randint(1, size)\n",
        "    cxpoint2 = random.randint(1, size - 1)\n",
        "    if cxpoint2 >= cxpoint1:\n",
        "        cxpoint2 += 1\n",
        "    else: # Swap the two cx points\n",
        "        cxpoint1, cxpoint2 = cxpoint2, cxpoint1\n",
        "\n",
        "    ind1[cxpoint1:cxpoint2], ind2[cxpoint1:cxpoint2] \\\n",
        "        = ind2[cxpoint1:cxpoint2].copy(), ind1[cxpoint1:cxpoint2].copy()\n",
        "        \n",
        "    return ind1, ind2\n",
        "\n",
        "def evalFunc(individual):\n",
        "    individual = torch.from_numpy(individual).view(1, 100, 1, 1)\n",
        "    return np.linalg.norm(netG(individual).view(28, 28).detach().numpy() - x, ord=2)**2,"
      ],
      "execution_count": 0,
      "outputs": []
    },
    {
      "cell_type": "code",
      "metadata": {
        "id": "y_HRnfCXruGt",
        "colab_type": "code",
        "colab": {}
      },
      "source": [
        "'''\n",
        "Evaluation Function: ||G(z) - x||^2_2 <- use 'np.linalg.norm( , ord=2)**2'\n",
        "'''\n",
        "# TODO : need to change mate, mutate, select operator\n",
        "# can check in here : https://deap.readthedocs.io/en/master/api/tools.html\n",
        "toolbox.register(\"evaluate\", evalFunc)\n",
        "# toolbox.register(\"mate\", cxTwoPointCopy)\n",
        "toolbox.register(\"mate\", tools.cxUniform, indpb=0.1)\n",
        "toolbox.register(\"mutate\", tools.mutFlipBit, indpb=0.05)\n",
        "toolbox.register(\"select\", tools.selTournament, tournsize=3)"
      ],
      "execution_count": 0,
      "outputs": []
    },
    {
      "cell_type": "code",
      "metadata": {
        "id": "mO_oSiTyr6gu",
        "colab_type": "code",
        "colab": {}
      },
      "source": [
        "def main():\n",
        "    random.seed(777)\n",
        "\n",
        "    # pop = toolbox.population(n=POPULATION)\n",
        "    pop = toolbox.population()\n",
        "    \n",
        "    print(\"Start of evolution\")\n",
        "\n",
        "    # Evaluate the entire population\n",
        "    # print(fitnesses) -> [(84,), (105,), (96,), (104,), (94,),  ... ] 이런식으로 저장됨.\n",
        "    fitnesses = list(map(toolbox.evaluate, pop))\n",
        "    for ind, fit in zip(pop, fitnesses):\n",
        "        ind.fitness.values = fit\n",
        "\n",
        "    # Extracting all the fitnesses of \n",
        "    fits = [ind.fitness.values[0] for ind in pop]\n",
        "\n",
        "    # Variable keeping track of the number of generations\n",
        "    g = 0\n",
        "    \n",
        "    # Begin the evolution\n",
        "    while min(fits) > 0 and g < GENERATIONS:\n",
        "        # A new generation\n",
        "        g = g + 1\n",
        "        print(\"-- Generation %i --\" % g)\n",
        "        \n",
        "        # Select the next generation individuals\n",
        "        # len(pop) -> 50, len(pop[0]) -> 5\n",
        "        offspring = toolbox.select(pop, len(pop))\n",
        "\n",
        "        # Clone the selected individuals\n",
        "        offspring = list(map(toolbox.clone, offspring))\n",
        "    \n",
        "        # Apply crossover and mutation on the offspring\n",
        "        '''\n",
        "        they modify those individuals within the toolbox container \n",
        "        and we do not need to reassign their results.\n",
        "        '''\n",
        "\n",
        "        for child1, child2 in zip(offspring[::2], offspring[1::2]):\n",
        "            if random.random() < CXPB:\n",
        "                size = min(len(child1), len(child2))\n",
        "                for i in range(5):                    \n",
        "                  cxpoint = random.randint(2, size - 1)\n",
        "                  mtpoint = cxpoint - 1\n",
        "                  # cxpoint -1 위치 : mutate\n",
        "                  beta = random.random()\n",
        "                  child1[mtpoint] = child1[mtpoint] - beta*(child1[mtpoint] - child2[mtpoint])\n",
        "                  child2[mtpoint] = child1[mtpoint] + beta*(child1[mtpoint] - child2[mtpoint])\n",
        "\n",
        "                  # crossover : one point crossover (temporary crossover algorithm)\n",
        "                  # child1[cxpoint:], child2[cxpoint:] = child2[cxpoint:], child1[cxpoint:]\n",
        "                del child1.fitness.values\n",
        "                del child2.fitness.values\n",
        "        \n",
        "        \n",
        "        # TODO: want p_new1 = p_m - beta(p_m - p_d), p_new2 = p_m + beta(p_m - p_d)\n",
        "        # want to customize mutation method... there is no proper mutation operator in deap.tools...\n",
        "        for child1, child2 in zip(offspring[::2], offspring[1::2]):\n",
        "            if random.random() < CXPB:\n",
        "                toolbox.mate(child1, child2)\n",
        "                del child1.fitness.values\n",
        "                del child2.fitness.values\n",
        "        \n",
        "        for mutant in offspring:\n",
        "            if random.random() < MUTPB:\n",
        "                toolbox.mutate(mutant)\n",
        "                del mutant.fitness.values\n",
        "        \n",
        "    \n",
        "        # Evaluate the individuals with an invalid fitness\n",
        "        invalid_ind = [ind for ind in offspring if not ind.fitness.valid]\n",
        "        fitnesses = map(toolbox.evaluate, invalid_ind)\n",
        "        for ind, fit in zip(invalid_ind, fitnesses):\n",
        "            ind.fitness.values = fit\n",
        "        \n",
        "        # The population is entirely replaced by the offspring\n",
        "        pop[:] = offspring\n",
        "\n",
        "        # Gather all the fitnesses in one list and print the stats\n",
        "        fits = [ind.fitness.values[0] for ind in pop]\n",
        "        \n",
        "        length = len(pop)\n",
        "        mean = sum(fits) / length\n",
        "        sum2 = sum(x*x for x in fits)\n",
        "        std = abs(sum2 / length - mean**2)**0.5\n",
        "        \n",
        "        if g%5 == 0:\n",
        "          best_ind = tools.selBest(pop, 1)[0]\n",
        "          tmp_z = torch.from_numpy(best_ind).view(1, 100, 1, 1)\n",
        "          gen_img = netG(tmp_z)\n",
        "          imshow(gen_img.detach())\n",
        "\n",
        "        print(\"  Min %s\" % min(fits))\n",
        "        print(\"  Max %s\" % max(fits))\n",
        "        print(\"  Avg %s\" % mean)\n",
        "        print(\"  Std %s\" % std)\n",
        "\n",
        "\n",
        "    print(\"-- End of (successful) evolution --\")\n",
        "    \n",
        "    best_ind = tools.selBest(pop, 1)[0]\n",
        "    print(\"Best individual is %s, %s\" % (best_ind, best_ind.fitness.values))\n",
        "    print(best_ind.fitness.values)\n",
        "    return best_ind\n",
        "# main()"
      ],
      "execution_count": 0,
      "outputs": []
    },
    {
      "cell_type": "code",
      "metadata": {
        "id": "3kb7nChgmRDK",
        "colab_type": "code",
        "colab": {
          "base_uri": "https://localhost:8080/",
          "height": 1000
        },
        "outputId": "be9274a7-3bd0-42de-e9a0-7fa13c174bcc"
      },
      "source": [
        "# For each generation, select the latent vector z* that minimizes fitness, and do the following.\n",
        "# z = torch.FloatTensor(1, params['nz'], 1, 1).normal_(0, 1)  # torch.Size([100, 1, 1]). This should be z* later on.\n",
        "output = np.array(main())\n",
        "\n",
        "z = torch.from_numpy(output).view(1, 100, 1, 1)\n",
        "\n",
        "gen_image = netG(z)  # torch.Size([1, 28, 28]). This is the generated image that we want to see for each generation.\n",
        "# Because gen_image should step closer to fgsm_image x for each generation.\n",
        "print(\"the shape of generated image : \" + str(gen_image.shape))\n",
        "imshow(gen_image.detach())  # plot the image of generated image\n",
        "\n",
        "# After GA, give generated image as input to each classifier (use gen_image)"
      ],
      "execution_count": 10,
      "outputs": [
        {
          "output_type": "stream",
          "text": [
            "Start of evolution\n",
            "-- Generation 1 --\n",
            "  Min 15.812381870637182\n",
            "  Max 45.1640498226991\n",
            "  Avg 29.041286516254758\n",
            "  Std 5.930039354402692\n",
            "-- Generation 2 --\n",
            "  Min 10.806641408187772\n",
            "  Max 44.90140363627893\n",
            "  Avg 24.67060730372196\n",
            "  Std 5.600656309829485\n",
            "-- Generation 3 --\n",
            "  Min 10.806641408187772\n",
            "  Max 40.70584957040046\n",
            "  Avg 21.658853511745647\n",
            "  Std 5.303057968050745\n",
            "-- Generation 4 --\n",
            "  Min 10.505825454028127\n",
            "  Max 35.156613454390936\n",
            "  Avg 18.536074943851574\n",
            "  Std 5.087854769316065\n",
            "-- Generation 5 --\n"
          ],
          "name": "stdout"
        },
        {
          "output_type": "display_data",
          "data": {
            "image/png": "[encoded data removed]",
            "text/plain": [
              "<Figure size 432x288 with 1 Axes>"
            ]
          },
          "metadata": {
            "tags": []
          }
        },
        {
          "output_type": "stream",
          "text": [
            "  Min 10.279849179071846\n",
            "  Max 32.06708055484364\n",
            "  Avg 15.82966435334852\n",
            "  Std 4.438152542031806\n",
            "-- Generation 6 --\n",
            "  Min 9.242927635568776\n",
            "  Max 26.476687385639025\n",
            "  Avg 14.030479215651786\n",
            "  Std 3.1975869707158022\n",
            "-- Generation 7 --\n",
            "  Min 9.242927635568776\n",
            "  Max 23.650094589742366\n",
            "  Avg 12.973092037504548\n",
            "  Std 3.1189111220404846\n",
            "-- Generation 8 --\n",
            "  Min 8.79145070402052\n",
            "  Max 26.926415156741314\n",
            "  Avg 11.608049445295753\n",
            "  Std 2.50944015135191\n",
            "-- Generation 9 --\n",
            "  Min 7.76480268932778\n",
            "  Max 21.586103833696143\n",
            "  Avg 10.98876074794736\n",
            "  Std 2.020593258391492\n",
            "-- Generation 10 --\n"
          ],
          "name": "stdout"
        },
        {
          "output_type": "display_data",
          "data": {
            "image/png": "[encoded data removed]",
            "text/plain": [
              "<Figure size 432x288 with 1 Axes>"
            ]
          },
          "metadata": {
            "tags": []
          }
        },
        {
          "output_type": "stream",
          "text": [
            "  Min 7.76480268932778\n",
            "  Max 24.818308275500613\n",
            "  Avg 10.682339065421882\n",
            "  Std 2.4665698891266143\n",
            "-- Generation 11 --\n",
            "  Min 6.926732332115591\n",
            "  Max 26.22855601214019\n",
            "  Avg 10.856032464307466\n",
            "  Std 3.1622548608877157\n",
            "-- Generation 12 --\n",
            "  Min 7.481272999179112\n",
            "  Max 28.196529834859575\n",
            "  Avg 11.23760259175155\n",
            "  Std 4.327602843682374\n",
            "-- Generation 13 --\n",
            "  Min 7.481272999179112\n",
            "  Max 29.276627421955936\n",
            "  Avg 10.6836489484302\n",
            "  Std 3.67973553411225\n",
            "-- Generation 14 --\n",
            "  Min 7.481272999179112\n",
            "  Max 31.64662806848378\n",
            "  Avg 11.077664749206415\n",
            "  Std 4.631729894908159\n",
            "-- Generation 15 --\n"
          ],
          "name": "stdout"
        },
        {
          "output_type": "display_data",
          "data": {
            "image/png": "[encoded data removed]",
            "text/plain": [
              "<Figure size 432x288 with 1 Axes>"
            ]
          },
          "metadata": {
            "tags": []
          }
        },
        {
          "output_type": "stream",
          "text": [
            "  Min 7.481272999179112\n",
            "  Max 33.640654910414014\n",
            "  Avg 10.744397895844752\n",
            "  Std 4.653211940789669\n",
            "-- Generation 16 --\n",
            "  Min 6.804354362910999\n",
            "  Max 32.895395244064275\n",
            "  Avg 11.350332588301264\n",
            "  Std 5.3071244096422605\n",
            "-- Generation 17 --\n",
            "  Min 6.804354362910999\n",
            "  Max 32.07988089401647\n",
            "  Avg 10.670645495281054\n",
            "  Std 4.767669805570548\n",
            "-- Generation 18 --\n",
            "  Min 6.804354362910999\n",
            "  Max 26.70055795276221\n",
            "  Avg 10.274616852410368\n",
            "  Std 4.3711969841554\n",
            "-- Generation 19 --\n",
            "  Min 6.804354362910999\n",
            "  Max 26.682638255424763\n",
            "  Avg 9.753180706799355\n",
            "  Std 4.2257748191780395\n",
            "-- Generation 20 --\n"
          ],
          "name": "stdout"
        },
        {
          "output_type": "display_data",
          "data": {
            "image/png": "[encoded data removed]",
            "text/plain": [
              "<Figure size 432x288 with 1 Axes>"
            ]
          },
          "metadata": {
            "tags": []
          }
        },
        {
          "output_type": "stream",
          "text": [
            "  Min 6.695182653691575\n",
            "  Max 30.060881534649525\n",
            "  Avg 8.748810512163445\n",
            "  Std 3.492080802145377\n",
            "-- Generation 21 --\n",
            "  Min 6.695182653691575\n",
            "  Max 25.321053445992447\n",
            "  Avg 8.237944885192602\n",
            "  Std 2.97152938217749\n",
            "-- Generation 22 --\n",
            "  Min 6.639424521211424\n",
            "  Max 23.153185236566287\n",
            "  Avg 8.291041897777037\n",
            "  Std 3.2241957768011997\n",
            "-- Generation 23 --\n",
            "  Min 6.639424521211424\n",
            "  Max 25.824565071379993\n",
            "  Avg 8.740828277583898\n",
            "  Std 4.233995589508919\n",
            "-- Generation 24 --\n",
            "  Min 6.623801352309101\n",
            "  Max 28.77668407640249\n",
            "  Avg 8.221800711149667\n",
            "  Std 3.3833435510955483\n",
            "-- Generation 25 --\n"
          ],
          "name": "stdout"
        },
        {
          "output_type": "display_data",
          "data": {
            "image/png": "[encoded data removed]",
            "text/plain": [
              "<Figure size 432x288 with 1 Axes>"
            ]
          },
          "metadata": {
            "tags": []
          }
        },
        {
          "output_type": "stream",
          "text": [
            "  Min 6.577624369615535\n",
            "  Max 20.633184433544557\n",
            "  Avg 8.082541847476868\n",
            "  Std 2.9506881205206317\n",
            "-- Generation 26 --\n",
            "  Min 6.187588403410928\n",
            "  Max 19.886356259172544\n",
            "  Avg 7.611537214524062\n",
            "  Std 2.3633127382954564\n",
            "-- Generation 27 --\n",
            "  Min 6.146286669719814\n",
            "  Max 19.123876779900684\n",
            "  Avg 7.74764475793246\n",
            "  Std 2.7050185417080432\n",
            "-- Generation 28 --\n",
            "  Min 6.146286669719814\n",
            "  Max 22.331743816903554\n",
            "  Avg 7.235762138269336\n",
            "  Std 2.3659901696594696\n",
            "-- Generation 29 --\n",
            "  Min 5.612999015869718\n",
            "  Max 26.49301117865639\n",
            "  Avg 7.987003147655107\n",
            "  Std 3.223143533761616\n",
            "-- Generation 30 --\n"
          ],
          "name": "stdout"
        },
        {
          "output_type": "display_data",
          "data": {
            "image/png": "[encoded data removed]",
            "text/plain": [
              "<Figure size 432x288 with 1 Axes>"
            ]
          },
          "metadata": {
            "tags": []
          }
        },
        {
          "output_type": "stream",
          "text": [
            "  Min 5.612999015869718\n",
            "  Max 34.261579734667066\n",
            "  Avg 7.816379775870166\n",
            "  Std 4.148413125654475\n",
            "-- Generation 31 --\n",
            "  Min 5.612999015869718\n",
            "  Max 22.731633541780184\n",
            "  Avg 7.527260700326392\n",
            "  Std 3.0469639124003045\n",
            "-- Generation 32 --\n",
            "  Min 5.5103951006933585\n",
            "  Max 25.85831652210095\n",
            "  Avg 7.73141631389456\n",
            "  Std 4.334703028819445\n",
            "-- Generation 33 --\n",
            "  Min 5.5103951006933585\n",
            "  Max 27.151832156851924\n",
            "  Avg 7.335025734332976\n",
            "  Std 4.257791175669882\n",
            "-- Generation 34 --\n",
            "  Min 5.5103951006933585\n",
            "  Max 24.869997671094325\n",
            "  Avg 7.203304720960261\n",
            "  Std 4.037163496185895\n",
            "-- Generation 35 --\n"
          ],
          "name": "stdout"
        },
        {
          "output_type": "display_data",
          "data": {
            "image/png": "[encoded data removed]",
            "text/plain": [
              "<Figure size 432x288 with 1 Axes>"
            ]
          },
          "metadata": {
            "tags": []
          }
        },
        {
          "output_type": "stream",
          "text": [
            "  Min 5.502662066932373\n",
            "  Max 24.377649025436995\n",
            "  Avg 6.768894437923581\n",
            "  Std 3.079801823429684\n",
            "-- Generation 36 --\n",
            "  Min 5.490173806502753\n",
            "  Max 22.48182130945588\n",
            "  Avg 7.209249533793709\n",
            "  Std 3.497488582435907\n",
            "-- Generation 37 --\n",
            "  Min 5.490173806502753\n",
            "  Max 20.91936807394177\n",
            "  Avg 6.8431423642584335\n",
            "  Std 2.910728949610245\n",
            "-- Generation 38 --\n",
            "  Min 5.463541110894084\n",
            "  Max 24.501558703879937\n",
            "  Avg 7.048876029567291\n",
            "  Std 3.4817305577073134\n",
            "-- Generation 39 --\n",
            "  Min 5.437027650809853\n",
            "  Max 34.19368944248072\n",
            "  Avg 6.8723549763034155\n",
            "  Std 3.898483447861289\n",
            "-- Generation 40 --\n"
          ],
          "name": "stdout"
        },
        {
          "output_type": "display_data",
          "data": {
            "image/png": "[encoded data removed]",
            "text/plain": [
              "<Figure size 432x288 with 1 Axes>"
            ]
          },
          "metadata": {
            "tags": []
          }
        },
        {
          "output_type": "stream",
          "text": [
            "  Min 5.463541110894084\n",
            "  Max 21.0101543434032\n",
            "  Avg 6.855094127845116\n",
            "  Std 3.233564561941535\n",
            "-- Generation 41 --\n",
            "  Min 5.463541110894084\n",
            "  Max 30.949846783642215\n",
            "  Avg 6.8780005994234985\n",
            "  Std 3.8918065235466592\n",
            "-- Generation 42 --\n",
            "  Min 5.463541110894084\n",
            "  Max 26.94719867225126\n",
            "  Avg 6.908403570526546\n",
            "  Std 3.7886314840814177\n",
            "-- Generation 43 --\n",
            "  Min 5.463541110894084\n",
            "  Max 21.695466928306132\n",
            "  Avg 6.722190560170352\n",
            "  Std 3.084983862855773\n",
            "-- Generation 44 --\n",
            "  Min 5.463541110894084\n",
            "  Max 23.401236477206112\n",
            "  Avg 6.525428139801918\n",
            "  Std 3.0787764651086884\n",
            "-- Generation 45 --\n"
          ],
          "name": "stdout"
        },
        {
          "output_type": "display_data",
          "data": {
            "image/png": "[encoded data removed]",
            "text/plain": [
              "<Figure size 432x288 with 1 Axes>"
            ]
          },
          "metadata": {
            "tags": []
          }
        },
        {
          "output_type": "stream",
          "text": [
            "  Min 5.461055903332635\n",
            "  Max 26.652675503106593\n",
            "  Avg 6.872683327052019\n",
            "  Std 4.011621973155301\n",
            "-- Generation 46 --\n",
            "  Min 5.461055903332635\n",
            "  Max 25.069862467899156\n",
            "  Avg 6.953517436806514\n",
            "  Std 3.5791631904410988\n",
            "-- Generation 47 --\n",
            "  Min 5.461055903332635\n",
            "  Max 20.899595954400866\n",
            "  Avg 6.380496648739729\n",
            "  Std 2.4271635611256097\n",
            "-- Generation 48 --\n",
            "  Min 5.461055903332635\n",
            "  Max 24.03526516502552\n",
            "  Avg 7.978598741641097\n",
            "  Std 4.537761789499697\n",
            "-- Generation 49 --\n",
            "  Min 5.461055903332635\n",
            "  Max 18.351797360110368\n",
            "  Avg 7.050504729488316\n",
            "  Std 3.378228092753617\n",
            "-- Generation 50 --\n"
          ],
          "name": "stdout"
        },
        {
          "output_type": "display_data",
          "data": {
            "image/png": "[encoded data removed]",
            "text/plain": [
              "<Figure size 432x288 with 1 Axes>"
            ]
          },
          "metadata": {
            "tags": []
          }
        },
        {
          "output_type": "stream",
          "text": [
            "  Min 5.461055903332635\n",
            "  Max 24.260760803256062\n",
            "  Avg 7.620292042345973\n",
            "  Std 4.290215873931099\n",
            "-- Generation 51 --\n",
            "  Min 5.4410488868171\n",
            "  Max 19.91151542925786\n",
            "  Avg 6.704705178018535\n",
            "  Std 3.0744941923905733\n",
            "-- Generation 52 --\n",
            "  Min 5.4410488868171\n",
            "  Max 22.882339427551642\n",
            "  Avg 6.226976097462122\n",
            "  Std 2.6327390517173326\n",
            "-- Generation 53 --\n",
            "  Min 5.441065570925275\n",
            "  Max 18.752322776210576\n",
            "  Avg 6.433573163860476\n",
            "  Std 2.725547864837253\n",
            "-- Generation 54 --\n",
            "  Min 5.441065570925275\n",
            "  Max 22.835826660044404\n",
            "  Avg 7.57802764469327\n",
            "  Std 4.077086199481703\n",
            "-- Generation 55 --\n"
          ],
          "name": "stdout"
        },
        {
          "output_type": "display_data",
          "data": {
            "image/png": "[encoded data removed]",
            "text/plain": [
              "<Figure size 432x288 with 1 Axes>"
            ]
          },
          "metadata": {
            "tags": []
          }
        },
        {
          "output_type": "stream",
          "text": [
            "  Min 5.4362193572271735\n",
            "  Max 20.268110030976686\n",
            "  Avg 6.894551046921845\n",
            "  Std 3.165215757200451\n",
            "-- Generation 56 --\n",
            "  Min 5.4362193572271735\n",
            "  Max 25.699738082277918\n",
            "  Avg 6.957715371024815\n",
            "  Std 3.8113227347327974\n",
            "-- Generation 57 --\n",
            "  Min 5.4362193572271735\n",
            "  Max 27.95396925685054\n",
            "  Avg 6.8658130507223385\n",
            "  Std 3.9054019133957687\n",
            "-- Generation 58 --\n",
            "  Min 5.4362193572271735\n",
            "  Max 25.43211093872378\n",
            "  Avg 7.285009762136046\n",
            "  Std 4.53824366545191\n",
            "-- Generation 59 --\n",
            "  Min 5.359961576878106\n",
            "  Max 20.176308562442728\n",
            "  Avg 6.660226016471936\n",
            "  Std 3.017298405565747\n",
            "-- Generation 60 --\n"
          ],
          "name": "stdout"
        },
        {
          "output_type": "display_data",
          "data": {
            "image/png": "[encoded data removed]",
            "text/plain": [
              "<Figure size 432x288 with 1 Axes>"
            ]
          },
          "metadata": {
            "tags": []
          }
        },
        {
          "output_type": "stream",
          "text": [
            "  Min 5.359961576878106\n",
            "  Max 19.429152370402335\n",
            "  Avg 6.337129313918265\n",
            "  Std 2.958332124460157\n",
            "-- Generation 61 --\n",
            "  Min 5.359961576878106\n",
            "  Max 21.391740932713446\n",
            "  Avg 6.837933937489331\n",
            "  Std 3.383272547872456\n",
            "-- Generation 62 --\n",
            "  Min 5.28885047482396\n",
            "  Max 23.825669616037203\n",
            "  Avg 6.773255866223665\n",
            "  Std 3.438690911263032\n",
            "-- Generation 63 --\n",
            "  Min 5.28885047482396\n",
            "  Max 21.86965078716662\n",
            "  Avg 6.899854427060457\n",
            "  Std 3.3871376395448998\n",
            "-- Generation 64 --\n",
            "  Min 5.28885047482396\n",
            "  Max 25.949961673035432\n",
            "  Avg 6.426755355064033\n",
            "  Std 2.7801625369304053\n",
            "-- Generation 65 --\n"
          ],
          "name": "stdout"
        },
        {
          "output_type": "display_data",
          "data": {
            "image/png": "[encoded data removed]",
            "text/plain": [
              "<Figure size 432x288 with 1 Axes>"
            ]
          },
          "metadata": {
            "tags": []
          }
        },
        {
          "output_type": "stream",
          "text": [
            "  Min 5.28885047482396\n",
            "  Max 34.44887149432907\n",
            "  Avg 6.986910135209823\n",
            "  Std 4.397707709862484\n",
            "-- Generation 66 --\n",
            "  Min 5.28885047482396\n",
            "  Max 15.223530954449416\n",
            "  Avg 6.224688471327299\n",
            "  Std 2.235788284014259\n",
            "-- Generation 67 --\n",
            "  Min 5.28885047482396\n",
            "  Max 18.434731418609772\n",
            "  Avg 6.49812140296174\n",
            "  Std 3.0735991259226325\n",
            "-- Generation 68 --\n",
            "  Min 5.28885047482396\n",
            "  Max 16.799607872650313\n",
            "  Avg 6.124435983261935\n",
            "  Std 2.1661947911654584\n",
            "-- Generation 69 --\n",
            "  Min 5.28885047482396\n",
            "  Max 29.189604678191245\n",
            "  Avg 6.507427807925633\n",
            "  Std 3.5164144641848267\n",
            "-- Generation 70 --\n"
          ],
          "name": "stdout"
        },
        {
          "output_type": "display_data",
          "data": {
            "image/png": "[encoded data removed]",
            "text/plain": [
              "<Figure size 432x288 with 1 Axes>"
            ]
          },
          "metadata": {
            "tags": []
          }
        },
        {
          "output_type": "stream",
          "text": [
            "  Min 5.28885047482396\n",
            "  Max 21.339808163247653\n",
            "  Avg 6.719634466111768\n",
            "  Std 3.2901888923888727\n",
            "-- Generation 71 --\n",
            "  Min 5.28885047482396\n",
            "  Max 27.45205592716252\n",
            "  Avg 6.3828525008215315\n",
            "  Std 3.4315397971059305\n",
            "-- Generation 72 --\n",
            "  Min 5.28885047482396\n",
            "  Max 33.81622211677518\n",
            "  Avg 6.773799034336539\n",
            "  Std 3.8299442119456173\n",
            "-- Generation 73 --\n",
            "  Min 5.28885047482396\n",
            "  Max 20.5323043466351\n",
            "  Avg 7.077560464348253\n",
            "  Std 3.558686474597996\n",
            "-- Generation 74 --\n",
            "  Min 5.28885047482396\n",
            "  Max 25.64106453576187\n",
            "  Avg 6.389390421990511\n",
            "  Std 2.9767074559439277\n",
            "-- Generation 75 --\n"
          ],
          "name": "stdout"
        },
        {
          "output_type": "display_data",
          "data": {
            "image/png": "[encoded data removed]",
            "text/plain": [
              "<Figure size 432x288 with 1 Axes>"
            ]
          },
          "metadata": {
            "tags": []
          }
        },
        {
          "output_type": "stream",
          "text": [
            "  Min 5.28885047482396\n",
            "  Max 20.234604901637795\n",
            "  Avg 6.208158986437574\n",
            "  Std 2.7754066319980004\n",
            "-- Generation 76 --\n",
            "  Min 5.28885047482396\n",
            "  Max 17.387616146516166\n",
            "  Avg 6.670437896768524\n",
            "  Std 2.833793946186972\n",
            "-- Generation 77 --\n",
            "  Min 5.28885047482396\n",
            "  Max 20.33588293230082\n",
            "  Avg 6.197344206517809\n",
            "  Std 2.707765530492101\n",
            "-- Generation 78 --\n",
            "  Min 5.28885047482396\n",
            "  Max 20.53538125949217\n",
            "  Avg 6.666887614738807\n",
            "  Std 3.2131739419648286\n",
            "-- Generation 79 --\n",
            "  Min 5.28885047482396\n",
            "  Max 16.998807772910368\n",
            "  Avg 6.169319003090595\n",
            "  Std 2.4387240658396467\n",
            "-- Generation 80 --\n"
          ],
          "name": "stdout"
        },
        {
          "output_type": "display_data",
          "data": {
            "image/png": "[encoded data removed]",
            "text/plain": [
              "<Figure size 432x288 with 1 Axes>"
            ]
          },
          "metadata": {
            "tags": []
          }
        },
        {
          "output_type": "stream",
          "text": [
            "  Min 5.28885047482396\n",
            "  Max 20.889290599385276\n",
            "  Avg 6.512868632866107\n",
            "  Std 3.1467015137130603\n",
            "-- Generation 81 --\n",
            "  Min 5.28885047482396\n",
            "  Max 20.352594293308357\n",
            "  Avg 6.134032154175352\n",
            "  Std 2.769663429124631\n",
            "-- Generation 82 --\n",
            "  Min 5.28885047482396\n",
            "  Max 20.532701912293305\n",
            "  Avg 6.536169644259039\n",
            "  Std 2.912775177311583\n",
            "-- Generation 83 --\n",
            "  Min 5.28885047482396\n",
            "  Max 27.6211406427401\n",
            "  Avg 6.236882315504602\n",
            "  Std 3.0916030233389105\n",
            "-- Generation 84 --\n",
            "  Min 5.28885047482396\n",
            "  Max 24.5258427493618\n",
            "  Avg 6.835291952491377\n",
            "  Std 3.898168034107653\n",
            "-- Generation 85 --\n"
          ],
          "name": "stdout"
        },
        {
          "output_type": "display_data",
          "data": {
            "image/png": "[encoded data removed]",
            "text/plain": [
              "<Figure size 432x288 with 1 Axes>"
            ]
          },
          "metadata": {
            "tags": []
          }
        },
        {
          "output_type": "stream",
          "text": [
            "  Min 5.28885047482396\n",
            "  Max 20.587706740684553\n",
            "  Avg 6.823002726915668\n",
            "  Std 3.334485203844105\n",
            "-- Generation 86 --\n",
            "  Min 5.28885047482396\n",
            "  Max 19.806682960130274\n",
            "  Avg 6.725674484101376\n",
            "  Std 3.3534039163130003\n",
            "-- Generation 87 --\n",
            "  Min 5.28885047482396\n",
            "  Max 22.444802636513487\n",
            "  Avg 6.754238878914355\n",
            "  Std 3.4795845539930785\n",
            "-- Generation 88 --\n",
            "  Min 5.28885047482396\n",
            "  Max 16.641341473223292\n",
            "  Avg 6.441244399472039\n",
            "  Std 2.829739097860579\n",
            "-- Generation 89 --\n",
            "  Min 5.28885047482396\n",
            "  Max 26.365103081990128\n",
            "  Avg 6.568310171004566\n",
            "  Std 3.4365860151343925\n",
            "-- Generation 90 --\n"
          ],
          "name": "stdout"
        },
        {
          "output_type": "display_data",
          "data": {
            "image/png": "[encoded data removed]",
            "text/plain": [
              "<Figure size 432x288 with 1 Axes>"
            ]
          },
          "metadata": {
            "tags": []
          }
        },
        {
          "output_type": "stream",
          "text": [
            "  Min 5.28885047482396\n",
            "  Max 19.547138367143134\n",
            "  Avg 6.51509162205826\n",
            "  Std 2.8781602454283766\n",
            "-- Generation 91 --\n",
            "  Min 5.28885047482396\n",
            "  Max 20.49821445409998\n",
            "  Avg 6.402592289608935\n",
            "  Std 2.75913466241088\n",
            "-- Generation 92 --\n",
            "  Min 5.28885047482396\n",
            "  Max 19.69132161149537\n",
            "  Avg 6.480410947023511\n",
            "  Std 3.0195130107817643\n",
            "-- Generation 93 --\n",
            "  Min 5.28885047482396\n",
            "  Max 25.80447592850419\n",
            "  Avg 6.929574932466403\n",
            "  Std 3.6696846067595734\n",
            "-- Generation 94 --\n",
            "  Min 5.28885047482396\n",
            "  Max 22.202291409763575\n",
            "  Avg 6.654618967791334\n",
            "  Std 3.3488479491583165\n",
            "-- Generation 95 --\n"
          ],
          "name": "stdout"
        },
        {
          "output_type": "display_data",
          "data": {
            "image/png": "[encoded data removed]",
            "text/plain": [
              "<Figure size 432x288 with 1 Axes>"
            ]
          },
          "metadata": {
            "tags": []
          }
        },
        {
          "output_type": "stream",
          "text": [
            "  Min 5.28885047482396\n",
            "  Max 21.688173676017186\n",
            "  Avg 6.884551360889488\n",
            "  Std 3.438382910776933\n",
            "-- Generation 96 --\n",
            "  Min 5.28885047482396\n",
            "  Max 24.462850944928505\n",
            "  Avg 6.44611642294411\n",
            "  Std 3.200600004386881\n",
            "-- Generation 97 --\n",
            "  Min 5.28885047482396\n",
            "  Max 29.762002970583353\n",
            "  Avg 6.73559097021976\n",
            "  Std 3.715841000677194\n",
            "-- Generation 98 --\n",
            "  Min 5.28885047482396\n",
            "  Max 25.103380045658014\n",
            "  Avg 6.911851951759684\n",
            "  Std 3.9566046515695166\n",
            "-- Generation 99 --\n",
            "  Min 5.201495556525515\n",
            "  Max 21.618514378170403\n",
            "  Avg 6.4788885329715455\n",
            "  Std 2.6687082397206017\n",
            "-- Generation 100 --\n"
          ],
          "name": "stdout"
        },
        {
          "output_type": "display_data",
          "data": {
            "image/png": "[encoded data removed]",
            "text/plain": [
              "<Figure size 432x288 with 1 Axes>"
            ]
          },
          "metadata": {
            "tags": []
          }
        },
        {
          "output_type": "stream",
          "text": [
            "  Min 5.28885047482396\n",
            "  Max 21.221482278910116\n",
            "  Avg 6.558983549127895\n",
            "  Std 3.3539120686039263\n",
            "-- End of (successful) evolution --\n",
            "Best individual is [ 1.75088122e-01 -4.24670149e-03  0.00000000e+00  7.04087555e-01\n",
            "  9.79174525e-02  0.00000000e+00  0.00000000e+00 -1.64310217e+00\n",
            " -5.80406785e-01 -4.31770712e-01  1.12399936e-01 -6.28464580e-01\n",
            " -1.27959681e+00 -1.65024832e-01 -6.17733002e-02  1.30795050e+00\n",
            "  0.00000000e+00  0.00000000e+00 -2.39908829e-01 -6.58111870e-01\n",
            " -8.07974398e-01 -1.39531124e+00 -3.32943618e-01  4.10491019e-01\n",
            " -5.74169993e-01  1.15092337e-01  0.00000000e+00  1.78851143e-01\n",
            " -5.26339710e-01 -3.58427584e-01 -3.11843485e-01  1.19862688e+00\n",
            "  1.15116692e+00  0.00000000e+00  6.78237736e-01  1.07179344e+00\n",
            " -1.91765153e+00  0.00000000e+00  1.23833406e+00  1.34013247e+00\n",
            "  8.58000338e-01  9.79441524e-01  9.46560144e-01  0.00000000e+00\n",
            "  0.00000000e+00 -5.56584239e-01  8.41866073e-04 -5.56096375e-01\n",
            "  4.93879467e-01  9.89293337e-01  8.01043510e-01 -1.27786085e-01\n",
            " -6.52119964e-02 -6.25565410e-01 -1.10812604e+00 -1.05831301e+00\n",
            " -1.99989170e-01  0.00000000e+00  1.79195070e+00 -7.78356254e-01\n",
            "  1.37307870e+00  3.89320016e-01  5.68609059e-01 -8.03510129e-01\n",
            "  1.42843437e+00  6.91905320e-01 -1.00330317e+00  3.15953940e-01\n",
            "  1.47713852e+00  7.45604336e-01  1.25592721e+00 -7.45669305e-01\n",
            "  1.99539661e+00  9.68388975e-01  1.84388101e+00  7.20124900e-01\n",
            "  0.00000000e+00 -3.29881132e-01  5.34205258e-01  0.00000000e+00\n",
            " -5.69894969e-01 -1.39312088e+00 -5.77667415e-01 -2.36904240e+00\n",
            "  5.83718300e-01  7.53397465e-01  1.12060678e+00 -1.33921981e+00\n",
            "  1.44079733e+00  1.15776896e+00 -8.06004226e-01 -2.24844575e-01\n",
            " -8.09622705e-01 -9.01698828e-01  1.02360427e-01  8.91364396e-01\n",
            " -9.59098577e-01  1.09882009e+00 -1.17630017e+00  3.92444789e-01], (5.28885047482396,)\n",
            "(5.28885047482396,)\n",
            "the shape of generated image : torch.Size([1, 1, 28, 28])\n"
          ],
          "name": "stdout"
        },
        {
          "output_type": "display_data",
          "data": {
            "image/png": "[encoded data removed]",
            "text/plain": [
              "<Figure size 432x288 with 1 Axes>"
            ]
          },
          "metadata": {
            "tags": []
          }
        }
      ]
    }
  ]
}