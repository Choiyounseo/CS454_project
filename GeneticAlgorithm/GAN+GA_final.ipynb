{
  "nbformat": 4,
  "nbformat_minor": 0,
  "metadata": {
    "colab": {
      "name": "GAN+GA.ipynb",
      "provenance": [],
      "collapsed_sections": []
    },
    "kernelspec": {
      "name": "python3",
      "display_name": "Python 3"
    }
  },
  "cells": [
    {
      "cell_type": "code",
      "metadata": {
        "id": "5BZrb3knlLqn",
        "colab_type": "code",
        "outputId": "0e069835-2531-4130-9dba-406e98f1aaaa",
        "colab": {
          "base_uri": "https://localhost:8080/",
          "height": 139
        }
      },
      "source": [
        "pip install deap"
      ],
      "execution_count": 1,
      "outputs": [
        {
          "output_type": "stream",
          "text": [
            "Collecting deap\n",
            "\u001b[?25l  Downloading https://files.pythonhosted.org/packages/81/98/3166fb5cfa47bf516e73575a1515734fe3ce05292160db403ae542626b32/deap-1.3.0-cp36-cp36m-manylinux2010_x86_64.whl (151kB)\n",
            "\u001b[K     |████████████████████████████████| 153kB 2.8MB/s \n",
            "\u001b[?25hRequirement already satisfied: numpy in /usr/local/lib/python3.6/dist-packages (from deap) (1.17.4)\n",
            "Installing collected packages: deap\n",
            "Successfully installed deap-1.3.0\n"
          ],
          "name": "stdout"
        }
      ]
    },
    {
      "cell_type": "code",
      "metadata": {
        "id": "j6KCDNJNmCqe",
        "colab_type": "code",
        "outputId": "c27509e1-46e0-4699-82c5-61cbfb595527",
        "colab": {
          "base_uri": "https://localhost:8080/",
          "height": 122
        }
      },
      "source": [
        "from google.colab import drive\n",
        "\n",
        "drive.mount('/gdrive')\n",
        "gdrive_root = '/gdrive/My Drive'"
      ],
      "execution_count": 2,
      "outputs": [
        {
          "output_type": "stream",
          "text": [
            "Go to this URL in a browser: https://accounts.google.com/o/oauth2/auth?client_id=947318989803-6bn6qk8qdgf4n4g3pfee6491hc0brc4i.apps.googleusercontent.com&redirect_uri=urn%3aietf%3awg%3aoauth%3a2.0%3aoob&response_type=code&scope=email%20https%3a%2f%2fwww.googleapis.com%2fauth%2fdocs.test%20https%3a%2f%2fwww.googleapis.com%2fauth%2fdrive%20https%3a%2f%2fwww.googleapis.com%2fauth%2fdrive.photos.readonly%20https%3a%2f%2fwww.googleapis.com%2fauth%2fpeopleapi.readonly\n",
            "\n",
            "Enter your authorization code:\n",
            "··········\n",
            "Mounted at /gdrive\n"
          ],
          "name": "stdout"
        }
      ]
    },
    {
      "cell_type": "code",
      "metadata": {
        "id": "OwXRTu0KldZ_",
        "colab_type": "code",
        "colab": {}
      },
      "source": [
        "import torch.nn as nn\n",
        "\n",
        "class Generator(nn.Module):\n",
        "    def __init__(self, ngpu, nc, nz, ngf):\n",
        "        super(Generator, self).__init__()\n",
        "        self.ngpu = ngpu\n",
        "        self.main = nn.Sequential(\n",
        "            # input is Z, going into a convolution\n",
        "            nn.ConvTranspose2d(nz, ngf * 8, 7, 1, 0, bias=False),\n",
        "            nn.BatchNorm2d(ngf * 8),\n",
        "            nn.ReLU(True),\n",
        "            # state size. (ngf*8) x 7 x 7\n",
        "            nn.ConvTranspose2d(ngf * 8, ngf * 4, 3, 1, 1, bias=False),\n",
        "            nn.BatchNorm2d(ngf * 4),\n",
        "            nn.ReLU(True),\n",
        "            # state size. (ngf*4) x 7 x 7\n",
        "            nn.ConvTranspose2d(ngf * 4, ngf * 2, 4, 2, 1, bias=False),\n",
        "            nn.BatchNorm2d(ngf * 2),\n",
        "            nn.ReLU(True),\n",
        "            # state size. (ngf*2) x 14 x 14\n",
        "            nn.ConvTranspose2d(ngf * 2, ngf, 3, 1, 1, bias=False),\n",
        "            nn.BatchNorm2d(ngf),\n",
        "            nn.ReLU(True),\n",
        "            # state size. (ngf) x 14 x 14\n",
        "            nn.ConvTranspose2d(ngf, nc, 4, 2, 1, bias=False),\n",
        "            nn.Tanh()\n",
        "            # state size. (nc) x 28 x 28\n",
        "        )\n",
        "\n",
        "    def forward(self, input):\n",
        "        return self.main(input)\n",
        "\n",
        "class Classifier_B(nn.Module):\n",
        "    def __init__(self):\n",
        "        super(Classifier_B, self).__init__()\n",
        "\n",
        "        self.relu = nn.ReLU()\n",
        "        self.dropout1 = nn.Dropout(0.2)\n",
        "        self.conv1 = nn.Conv2d(in_channels=1, out_channels = 64, kernel_size=8, stride = 2, padding = 3)\n",
        "        self.conv2 = nn.Conv2d(in_channels=64, out_channels = 128, kernel_size=6, stride = 2)\n",
        "        self.conv3 = nn.Conv2d(in_channels=128, out_channels = 128, kernel_size=5, stride = 1)\n",
        "        self.dropout2 = nn.Dropout(0.5)\n",
        "        self.FC1 = nn.Linear(128, 10)\n",
        "        \n",
        "        \n",
        "    def forward(self, x):\n",
        "        in_size = x.size(0)\n",
        "        x = self.dropout1(x)\n",
        "        x = self.relu(self.conv1(x))\n",
        "        x = self.relu(self.conv2(x))\n",
        "        x = self.relu(self.conv3(x))\n",
        "        x = self.dropout2(x)\n",
        "        x = x.view(in_size, -1)\n",
        "        x = self.FC1(x)\n",
        "        return x\n",
        "    \n",
        "    def get_output(self, x):\n",
        "        in_size = x.size(0)\n",
        "        x = self.relu(self.conv1(x))\n",
        "        x = self.relu(self.conv2(x))\n",
        "        x = self.relu(self.conv3(x))\n",
        "        x = x.view(in_size, -1)\n",
        "        x = self.FC1(x)\n",
        "        return x"
      ],
      "execution_count": 0,
      "outputs": []
    },
    {
      "cell_type": "code",
      "metadata": {
        "id": "r02KmvHGmKJY",
        "colab_type": "code",
        "outputId": "1c33143b-092b-4c0b-8656-41824d197d8b",
        "colab": {
          "base_uri": "https://localhost:8080/",
          "height": 34
        }
      },
      "source": [
        "import torch\n",
        "import torch.nn as nn\n",
        "import torch.optim as optim\n",
        "import torchvision.utils as utils\n",
        "import torchvision.datasets as dsets\n",
        "import torchvision.transforms as transforms\n",
        "import numpy as np\n",
        "from matplotlib import pyplot as plt\n",
        "from torchvision import datasets, transforms\n",
        "from torch.utils.data import DataLoader\n",
        "\n",
        "def imshow(img):\n",
        "    img = (img + 1) / 2\n",
        "    img = img.squeeze()\n",
        "    np_img = img.numpy()\n",
        "    plt.imshow(np_img, cmap='gray')\n",
        "    plt.show()\n",
        "\n",
        "def imshow_grid(img):\n",
        "    img = utils.make_grid(img.cpu().detach())\n",
        "    img = (img + 1) / 2\n",
        "    npimg = img.numpy()\n",
        "    plt.imshow(np.transpose(npimg, (1, 2, 0)))\n",
        "    plt.show()\n",
        "\n",
        "# Hyper parameters\n",
        "params = {\n",
        "    'input_size': 28,  # image size 1x64x64\n",
        "    'batch_size': 64,  # batch size\n",
        "    'pop_size': 100,   # population size\n",
        "    'nc': 1,  # number of channels\n",
        "    'nz': 100,  # size of z latent vector\n",
        "    'ngf': 64,  # size of feature maps in generator\n",
        "    'ndf': 32,  # size of feature maps in discriminator\n",
        "    'num_epochs': 1000,  # number of epochs\n",
        "    'lr': 0.0001,  # learning rate\n",
        "    'beta1': 0.5,   # beta1 for adam optimizer\n",
        "    'ngpu': 1,  # number of GPU\n",
        "    'lambda_gp': 10,  # loss weight for gradient penalty\n",
        "    'n_critic': 5,\n",
        "}\n",
        "\n",
        "#device = torch.device('cuda' if torch.cuda.is_available() else 'cpu')\n",
        "# Generator(ngpu, nc, nz, ngf)\n",
        "# 이 부분에서 체크포인트 위치 설정.\n",
        "netG = Generator(params['ngpu'], params['nc'], params['nz'], params['ngf'])\n",
        "netG.load_state_dict(torch.load(gdrive_root + '/checkpoints/netG_12500.pth', map_location=torch.device('cpu')))\n",
        "\n",
        "# transform\n",
        "transform = transforms.Compose([transforms.ToTensor()])\n",
        "\n",
        "# data sets and data loader\n",
        "train_data = datasets.MNIST(root='data/', train=True, transform=transform, download=True)\n",
        "train_data_loader = DataLoader(train_data, params['batch_size'], shuffle=False)\n",
        "first_batch = train_data_loader.__iter__().__next__()  # first batch of MNIST data set : torch.Size([64x, 1, 28, 28])\n",
        "print(first_batch[0][0].shape)  # torch.Size([1, 28, 28])\n",
        "#imshow(first_batch[0][0])  # plot the image of first batch"
      ],
      "execution_count": 165,
      "outputs": [
        {
          "output_type": "stream",
          "text": [
            "torch.Size([1, 28, 28])\n"
          ],
          "name": "stdout"
        }
      ]
    },
    {
      "cell_type": "code",
      "metadata": {
        "id": "dPnHQggNN9Ro",
        "colab_type": "code",
        "outputId": "d4122367-11d4-455e-9d1b-f8907bb52d26",
        "colab": {
          "base_uri": "https://localhost:8080/",
          "height": 282
        }
      },
      "source": [
        "from PIL import Image\n",
        "import torchvision.transforms.functional as TF\n",
        "\n",
        "my_image = Image.open(gdrive_root + '/my_data/0.1_1to7.jpg')\n",
        "my_x = TF.to_tensor(my_image)\n",
        "\n",
        "imshow(my_x)\n",
        "print(my_x.size())"
      ],
      "execution_count": 157,
      "outputs": [
        {
          "output_type": "display_data",
          "data": {
            "image/png": "[encoded data removed]",
            "text/plain": [
              "<Figure size 432x288 with 1 Axes>"
            ]
          },
          "metadata": {
            "tags": []
          }
        },
        {
          "output_type": "stream",
          "text": [
            "torch.Size([1, 28, 28])\n"
          ],
          "name": "stdout"
        }
      ]
    },
    {
      "cell_type": "code",
      "metadata": {
        "id": "zxREQRNHrbZf",
        "colab_type": "code",
        "colab": {}
      },
      "source": [
        "# Input image for defense GAN\n",
        "# For the test purpose, we will use MNIST data sample first.\n",
        "# fgsm_image : torch.Size([1, 28, 28]). This is image x.\n",
        "#fgsm_image = first_batch[0][0]  # torch.Size([1, 28, 28]). This should be fgsm_image later on.\n",
        "fgsm_image = my_x\n",
        "# evalFunc 에서 numpy 형태로 계산하려고 모양 수정 / 일단은 그냥 28, 28로 했는데 나중엔 일렬로 계산해도 될 듯.\n",
        "x = fgsm_image.view(28,28).numpy()\n",
        "#imshow(fgsm_image)\n",
        "\n",
        "# individual은 numpy array\n",
        "# numpy array 가 들어오면 -> tensor로 바꾸고, netG input 모양에 맞춰줌.\n",
        "# netG의 output이 tensor 형태이므로, numpy로 바꿔서 계산.. (이부분 텐서 형태에서 계산으로 추후 수정하면 될 듯.)\n",
        "def evalFunc(individual):\n",
        "    individual = torch.from_numpy(individual).view(1, 100, 1, 1)\n",
        "    return np.linalg.norm(netG(individual).view(28, 28).detach().numpy() - x, ord=2)**2,\n",
        "\n",
        "# Initial population for GA\n",
        "# initial_population : torch.Size([100, 100, 1, 1]), This has 100 latent vectors z (z is torch.Size([100, 1, 1])).\n",
        "# for example, initial_population[0] is z_0, initial_population[1] is z_1, ..., initial_population[99] is z_99.\n",
        "initial_population = torch.FloatTensor(params['pop_size'], params['nz'], 1, 1).normal_(0, 1)\n",
        "#print(initial_population.shape)  # torch.Size([100, 100, 1, 1])\n",
        "\n",
        "\n",
        "# 이 부분은 evalFunc 이 잘 작동하는지 확인하는 부분입니당.\n",
        "# z 가 길이 100짜리 1차원 numpy array 라고 가정하고(GA 에서 기본 individual 형태) evalFunc에 넣은뒤, 출력\n",
        "# z = torch.FloatTensor(1, params['nz'], 1, 1).normal_(0, 1)\n",
        "# z = z.view(100).numpy()\n",
        "# print(evalFunc(z))\n",
        "\n",
        "# initial_population를 numpy로 타입 맞춰주기.\n",
        "initial_population = initial_population.view(100, 100).numpy()\n",
        "\n",
        "def initIndividual(icls, content):\n",
        "  return icls(content)\n",
        "\n",
        "def initPopulation(pcls, ind_init):\n",
        "  return pcls(ind_init(c) for c in initial_population)"
      ],
      "execution_count": 0,
      "outputs": []
    },
    {
      "cell_type": "code",
      "metadata": {
        "id": "navWYmQBsJUW",
        "colab_type": "code",
        "outputId": "5b327839-b320-4156-a228-71f1bd2f067b",
        "colab": {
          "base_uri": "https://localhost:8080/",
          "height": 105
        }
      },
      "source": [
        "import random\n",
        "from deap import creator, base, tools, algorithms\n",
        "\n",
        "# TOCHECK:  will we use algorithm modules?\n",
        "\n",
        "'''\n",
        "Fitness : single optimization, minimize ||G(z) - x||^2_2\n",
        "'''\n",
        "creator.create(\"FitnessMin\", base.Fitness, weights=(-1.0,))\n",
        "creator.create(\"Individual\", np.ndarray, fitness=creator.FitnessMin) # minimizing the fitness value\n",
        "\n",
        "toolbox = base.Toolbox()\n",
        "\n",
        "'''\n",
        "[HYPERPARAMETERS]\n",
        "List of Floats: individuals composed of 'IND_SIZE' floating point numbers\n",
        "IND_SIZE: z의 dimension으로 보면 될듯\n",
        "POPULATION\n",
        "CXPB: probability of crossover\n",
        "MUTPB: probability of mutation\n",
        "'''\n",
        "IND_SIZE = 100\n",
        "POPULATION = 10\n",
        "CXPB, MUTPB = 0.4, 0.2\n",
        "GENERATIONS = 100\n",
        "\n",
        "toolbox.register(\"attr_float\", random.random)\n",
        "# toolbox.register(\"individual\", tools.initRepeat, creator.Individual, toolbox.attr_float, n=IND_SIZE)\n",
        "toolbox.register(\"individual\", initIndividual, creator.Individual)\n",
        "toolbox.register(\"population\", initPopulation, list, toolbox.individual)"
      ],
      "execution_count": 159,
      "outputs": [
        {
          "output_type": "stream",
          "text": [
            "/usr/local/lib/python3.6/dist-packages/deap/creator.py:141: RuntimeWarning: A class named 'FitnessMin' has already been created and it will be overwritten. Consider deleting previous creation of that class or rename it.\n",
            "  RuntimeWarning)\n",
            "/usr/local/lib/python3.6/dist-packages/deap/creator.py:141: RuntimeWarning: A class named 'Individual' has already been created and it will be overwritten. Consider deleting previous creation of that class or rename it.\n",
            "  RuntimeWarning)\n"
          ],
          "name": "stderr"
        }
      ]
    },
    {
      "cell_type": "code",
      "metadata": {
        "id": "EO-h_eSNry73",
        "colab_type": "code",
        "colab": {}
      },
      "source": [
        "def cxTwoPointCopy(ind1, ind2):\n",
        "    \"\"\"Execute a two points crossover with copy on the input individuals. The\n",
        "    copy is required because the slicing in numpy returns a view of the data,\n",
        "    which leads to a self overwritting in the swap operation. It prevents\n",
        "    ::\n",
        "    \n",
        "        >>> import numpy\n",
        "        >>> a = numpy.array((1,2,3,4))\n",
        "        >>> b = numpy.array((5,6,7,8))\n",
        "        >>> a[1:3], b[1:3] = b[1:3], a[1:3]\n",
        "        >>> print(a)\n",
        "        [1 6 7 4]\n",
        "        >>> print(b)\n",
        "        [5 6 7 8]\n",
        "    \"\"\"\n",
        "    size = len(ind1)\n",
        "    cxpoint1 = random.randint(1, size)\n",
        "    cxpoint2 = random.randint(1, size - 1)\n",
        "    if cxpoint2 >= cxpoint1:\n",
        "        cxpoint2 += 1\n",
        "    else: # Swap the two cx points\n",
        "        cxpoint1, cxpoint2 = cxpoint2, cxpoint1\n",
        "\n",
        "    ind1[cxpoint1:cxpoint2], ind2[cxpoint1:cxpoint2] \\\n",
        "        = ind2[cxpoint1:cxpoint2].copy(), ind1[cxpoint1:cxpoint2].copy()\n",
        "        \n",
        "    return ind1, ind2"
      ],
      "execution_count": 0,
      "outputs": []
    },
    {
      "cell_type": "code",
      "metadata": {
        "id": "y_HRnfCXruGt",
        "colab_type": "code",
        "colab": {}
      },
      "source": [
        "'''\n",
        "Evaluation Function: ||G(z) - x||^2_2 <- use 'np.linalg.norm( , ord=2)**2'\n",
        "'''\n",
        "# TODO : need to change mate, mutate, select operator\n",
        "# can check in here : https://deap.readthedocs.io/en/master/api/tools.html\n",
        "toolbox.register(\"evaluate\", evalFunc)\n",
        "#toolbox.register(\"mate\", cxTwoPointCopy)\n",
        "toolbox.register(\"mate\", tools.cxUniform, indpb=0.1)\n",
        "toolbox.register(\"mutate\", tools.mutGaussian, mu=0, sigma=0.1, indpb=0.1)\n",
        "toolbox.register(\"select\", tools.selTournament, tournsize=3)"
      ],
      "execution_count": 0,
      "outputs": []
    },
    {
      "cell_type": "code",
      "metadata": {
        "id": "euSTjAd8hwOA",
        "colab_type": "code",
        "colab": {
          "base_uri": "https://localhost:8080/",
          "height": 51
        },
        "outputId": "950b32b2-ce13-4ffe-f77b-d8cb801bed60"
      },
      "source": [
        "import os\n",
        "my_classifier = Classifier_B()\n",
        "best_acc = 0.0\n",
        "ckpt_dir = os.path.join(gdrive_root, 'checkpoints')\n",
        "ckpt_path = os.path.join(ckpt_dir, 'modelB_ckpt.pt')\n",
        "if os.path.exists(ckpt_path):\n",
        "    ckpt = torch.load(ckpt_path)\n",
        "    try:\n",
        "        my_classifier.load_state_dict(ckpt['model'])\n",
        "        best_acc = ckpt['best_acc']\n",
        "    except RuntimeError as e:\n",
        "        print('wrong checkpoint')\n",
        "    else:    \n",
        "        print('checkpoint is loaded !')\n",
        "        print('current best accuracy : %.2f' % best_acc)"
      ],
      "execution_count": 162,
      "outputs": [
        {
          "output_type": "stream",
          "text": [
            "checkpoint is loaded !\n",
            "current best accuracy : 0.98\n"
          ],
          "name": "stdout"
        }
      ]
    },
    {
      "cell_type": "code",
      "metadata": {
        "id": "mO_oSiTyr6gu",
        "colab_type": "code",
        "colab": {}
      },
      "source": [
        "def main():\n",
        "    random.seed(777)\n",
        "\n",
        "    # pop = toolbox.population(n=POPULATION)\n",
        "    pop = toolbox.population()\n",
        "    \n",
        "    print(\"Start of evolution\")\n",
        "\n",
        "    # Evaluate the entire population\n",
        "    # print(fitnesses) -> [(84,), (105,), (96,), (104,), (94,),  ... ] 이런식으로 저장됨.\n",
        "    fitnesses = list(map(toolbox.evaluate, pop))\n",
        "    for ind, fit in zip(pop, fitnesses):\n",
        "        ind.fitness.values = fit\n",
        "\n",
        "    # Extracting all the fitnesses of \n",
        "    fits = [ind.fitness.values[0] for ind in pop]\n",
        "\n",
        "    # Variable keeping track of the number of generations\n",
        "    g = 0\n",
        "    \n",
        "    # Begin the evolution\n",
        "    while min(fits) > 10 and g < GENERATIONS:\n",
        "        # A new generation\n",
        "        g = g + 1\n",
        "        print(\"-- Generation %i --\" % g)\n",
        "        \n",
        "        # Select the next generation individuals\n",
        "        # len(pop) -> 50, len(pop[0]) -> 5\n",
        "        offspring = toolbox.select(pop, len(pop))\n",
        "\n",
        "        # Clone the selected individuals\n",
        "        offspring = list(map(toolbox.clone, offspring))\n",
        "    \n",
        "        # Apply crossover and mutation on the offspring\n",
        "        '''\n",
        "        they modify those individuals within the toolbox container \n",
        "        and we do not need to reassign their results.\n",
        "        '''\n",
        "        # TODO: want p_new1 = p_m - beta(p_m - p_d), p_new2 = p_m + beta(p_m - p_d)\n",
        "        # want to customize mutation method... there is no proper mutation operator in deap.tools...\n",
        "\n",
        "        for child1, child2 in zip(offspring[::2], offspring[1::2]):\n",
        "            if random.random() < CXPB:\n",
        "                size = min(len(child1), len(child2))\n",
        "                for i in range(5):                    \n",
        "                  cxpoint = random.randint(2, size - 1)\n",
        "                  mtpoint = cxpoint - 1\n",
        "                  # cxpoint -1 위치 : mutate\n",
        "                  beta = random.random()\n",
        "                  child1[mtpoint] = child1[mtpoint] - beta*(child1[mtpoint] - child2[mtpoint])\n",
        "                  child2[mtpoint] = child1[mtpoint] + beta*(child1[mtpoint] - child2[mtpoint])\n",
        "\n",
        "                  # crossover : one point crossover (temporary crossover algorithm)\n",
        "                  # child1[cxpoint:], child2[cxpoint:] = child2[cxpoint:], child1[cxpoint:]\n",
        "                del child1.fitness.values\n",
        "                del child2.fitness.values\n",
        "\n",
        "        \n",
        "        for child1, child2 in zip(offspring[::2], offspring[1::2]):\n",
        "            if random.random() < CXPB:\n",
        "                toolbox.mate(child1, child2)\n",
        "                del child1.fitness.values\n",
        "                del child2.fitness.values\n",
        "        \n",
        "\n",
        "        for mutant in offspring:\n",
        "            if random.random() < MUTPB:\n",
        "                toolbox.mutate(mutant)\n",
        "                del mutant.fitness.values\n",
        "    \n",
        "        # Evaluate the individuals with an invalid fitness\n",
        "        invalid_ind = [ind for ind in offspring if not ind.fitness.valid]\n",
        "        fitnesses = map(toolbox.evaluate, invalid_ind)\n",
        "        for ind, fit in zip(invalid_ind, fitnesses):\n",
        "            ind.fitness.values = fit\n",
        "        \n",
        "        # The population is entirely replaced by the offspring\n",
        "        pop[:] = offspring\n",
        "\n",
        "        # Gather all the fitnesses in one list and print the stats\n",
        "        fits = [ind.fitness.values[0] for ind in pop]\n",
        "        \n",
        "        length = len(pop)\n",
        "        mean = sum(fits) / length\n",
        "        sum2 = sum(x*x for x in fits)\n",
        "        std = abs(sum2 / length - mean**2)**0.5\n",
        "        \n",
        "        print(\"  Min %s\" % min(fits))\n",
        "        print(\"  Max %s\" % max(fits))\n",
        "        print(\"  Avg %s\" % mean)\n",
        "        print(\"  Std %s\" % std)\n",
        "        to_classify = tools.selBest(pop, 1)[0]\n",
        "        to_classify2 = torch.from_numpy(to_classify).view(1, 100, 1, 1)\n",
        "        to_classify3 = netG(to_classify2)\n",
        "        to_classify4 = my_classifier.get_output(to_classify3.view(1, 1, 28, 28))[0]\n",
        "        print(to_classify4)\n",
        "        print(to_classify4.max(0)[1])\n",
        "\n",
        "\n",
        "        if g % 10 == 0 :\n",
        "          best_ind = tools.selBest(pop, 1)[0]\n",
        "          #print(\"Best individual is %s, %s\" % (best_ind, best_ind.fitness.values))\n",
        "          print(best_ind.fitness.values)\n",
        "          z = torch.from_numpy(best_ind).view(1, 100, 1, 1)\n",
        "          gen_image = netG(z)\n",
        "          #print(netG(z))\n",
        "          imshow(fgsm_image)\n",
        "          imshow(gen_image.detach())\n",
        "\n",
        "\n",
        "    print(\"-- End of (successful) evolution --\")\n",
        "    \n",
        "    best_ind = tools.selBest(pop, 1)[0]\n",
        "    print(\"Best individual is %s, %s\" % (best_ind, best_ind.fitness.values))\n",
        "    print(best_ind.fitness.values)\n",
        "    return best_ind\n",
        "# main()"
      ],
      "execution_count": 0,
      "outputs": []
    },
    {
      "cell_type": "code",
      "metadata": {
        "id": "3kb7nChgmRDK",
        "colab_type": "code",
        "outputId": "26e2567d-373a-487d-8c76-6c2645c014f3",
        "colab": {
          "base_uri": "https://localhost:8080/",
          "height": 1000
        }
      },
      "source": [
        "# For each generation, select the latent vector z* that minimizes fitness, and do the following.\n",
        "# z = torch.FloatTensor(1, params['nz'], 1, 1).normal_(0, 1)  # torch.Size([100, 1, 1]). This should be z* later on.\n",
        "output = np.array(main())\n",
        "\n",
        "z = torch.from_numpy(output).view(1, 100, 1, 1)\n",
        "\n",
        "gen_image = netG(z)  # torch.Size([1, 28, 28]). This is the generated image that we want to see for each generation.\n",
        "# Because gen_image should step closer to fgsm_image x for each generation.\n",
        "\n",
        "print(\"the shape of generated image : \" + str(gen_image.shape))\n",
        "imshow(gen_image.detach())  # plot the image of generated image\n",
        "\n",
        "\n",
        "\n",
        "\n",
        "\n",
        "print(my_classifier(gen_image.view(1, 1, 28, 28)))\n",
        "\n",
        "# After GA, give generated image as input to each classifier (use gen_image)"
      ],
      "execution_count": 167,
      "outputs": [
        {
          "output_type": "stream",
          "text": [
            "Start of evolution\n",
            "-- Generation 1 --\n",
            "  Min 19.272944536305886\n",
            "  Max 53.50564714347365\n",
            "  Avg 35.59085601059554\n",
            "  Std 7.180853373635144\n",
            "tensor([-3.4706,  6.7783,  2.2795, -3.2044, -1.8590,  0.5495,  1.4500,  0.2712,\n",
            "         2.2615, -1.5709], grad_fn=<SelectBackward>)\n",
            "tensor(1)\n",
            "-- Generation 2 --\n",
            "  Min 19.119306185766845\n",
            "  Max 46.969702559914595\n",
            "  Avg 31.033555878312736\n",
            "  Std 6.159658209524635\n",
            "tensor([-4.8110, 11.9088, -2.0926, -1.3950,  1.8697, -3.1958, -0.1646,  2.2316,\n",
            "        -0.0741,  0.4805], grad_fn=<SelectBackward>)\n",
            "tensor(1)\n",
            "-- Generation 3 --\n",
            "  Min 18.17726330035748\n",
            "  Max 45.541259380701376\n",
            "  Avg 28.712338409367167\n",
            "  Std 5.467961837035322\n",
            "tensor([-4.3753, 10.9611, -2.1503, -1.6525,  1.5955, -2.3587,  0.1075,  1.6829,\n",
            "         0.0827,  0.6603], grad_fn=<SelectBackward>)\n",
            "tensor(1)\n",
            "-- Generation 4 --\n",
            "  Min 18.0110904332671\n",
            "  Max 55.76356650505113\n",
            "  Avg 27.095622154495878\n",
            "  Std 6.235130669895286\n",
            "tensor([-4.3268, 10.3210, -2.5253, -1.3820,  1.5901, -1.2254,  0.7214,  0.7561,\n",
            "         0.1418,  0.5648], grad_fn=<SelectBackward>)\n",
            "tensor(1)\n",
            "-- Generation 5 --\n",
            "  Min 17.88412719481221\n",
            "  Max 47.6221362599174\n",
            "  Avg 25.52584372325865\n",
            "  Std 5.061076470254532\n",
            "tensor([-3.8095, 10.1735, -1.7898, -1.5305,  0.7395, -1.8200,  0.3858,  1.5037,\n",
            "         0.0693,  0.3156], grad_fn=<SelectBackward>)\n",
            "tensor(1)\n",
            "-- Generation 6 --\n",
            "  Min 17.792364185883343\n",
            "  Max 38.97789534403364\n",
            "  Avg 23.718918150204416\n",
            "  Std 3.126796391809545\n",
            "tensor([-3.9407, 10.2618, -1.8393, -1.5596,  0.7695, -1.6985,  0.5202,  1.4550,\n",
            "        -0.0311,  0.3397], grad_fn=<SelectBackward>)\n",
            "tensor(1)\n",
            "-- Generation 7 --\n",
            "  Min 17.792364185883343\n",
            "  Max 46.33889956662097\n",
            "  Avg 23.332447359522774\n",
            "  Std 4.447234954480551\n",
            "tensor([-3.9407, 10.2618, -1.8393, -1.5596,  0.7695, -1.6985,  0.5202,  1.4550,\n",
            "        -0.0311,  0.3397], grad_fn=<SelectBackward>)\n",
            "tensor(1)\n",
            "-- Generation 8 --\n",
            "  Min 17.539601309629006\n",
            "  Max 42.15903701188745\n",
            "  Avg 21.627003530152418\n",
            "  Std 3.358272157691744\n",
            "tensor([-3.7353,  9.9242, -1.7072, -1.4917,  0.5976, -1.3773,  1.0300,  1.3762,\n",
            "        -0.0500, -0.3153], grad_fn=<SelectBackward>)\n",
            "tensor(1)\n",
            "-- Generation 9 --\n",
            "  Min 17.539601309629006\n",
            "  Max 41.42410143104121\n",
            "  Avg 21.58505581039013\n",
            "  Std 4.2074939454028595\n",
            "tensor([-3.7353,  9.9242, -1.7072, -1.4917,  0.5976, -1.3773,  1.0300,  1.3762,\n",
            "        -0.0500, -0.3153], grad_fn=<SelectBackward>)\n",
            "tensor(1)\n",
            "-- Generation 10 --\n",
            "  Min 17.539601309629006\n",
            "  Max 40.69562816733742\n",
            "  Avg 20.8855260117226\n",
            "  Std 3.8484889203448707\n",
            "tensor([-3.7353,  9.9242, -1.7072, -1.4917,  0.5976, -1.3773,  1.0300,  1.3762,\n",
            "        -0.0500, -0.3153], grad_fn=<SelectBackward>)\n",
            "tensor(1)\n",
            "(17.539601309629006,)\n"
          ],
          "name": "stdout"
        },
        {
          "output_type": "display_data",
          "data": {
            "image/png": "[encoded data removed]",
            "text/plain": [
              "<Figure size 432x288 with 1 Axes>"
            ]
          },
          "metadata": {
            "tags": []
          }
        },
        {
          "output_type": "display_data",
          "data": {
            "image/png": "[encoded data removed]",
            "text/plain": [
              "<Figure size 432x288 with 1 Axes>"
            ]
          },
          "metadata": {
            "tags": []
          }
        },
        {
          "output_type": "stream",
          "text": [
            "-- Generation 11 --\n",
            "  Min 17.464494510146324\n",
            "  Max 45.99604877447655\n",
            "  Avg 20.08198591277956\n",
            "  Std 4.289621163581945\n",
            "tensor([-4.9197,  7.5115, -4.1273,  0.7876,  1.8300,  0.8148, -0.6868,  1.1744,\n",
            "        -1.2641,  2.9299], grad_fn=<SelectBackward>)\n",
            "tensor(1)\n",
            "-- Generation 12 --\n",
            "  Min 17.393092459243235\n",
            "  Max 37.53818147581319\n",
            "  Avg 20.03637114562753\n",
            "  Std 3.8185459811798115\n",
            "tensor([-3.6712,  9.7548, -1.6876, -1.4031,  0.5434, -1.2423,  1.0605,  1.1983,\n",
            "         0.0723, -0.4034], grad_fn=<SelectBackward>)\n",
            "tensor(1)\n",
            "-- Generation 13 --\n",
            "  Min 17.36741255603215\n",
            "  Max 30.29322546023559\n",
            "  Avg 18.70594398940799\n",
            "  Std 2.4598583306926045\n",
            "tensor([-3.5488,  9.6270, -1.6596, -1.3826,  0.4580, -0.9912,  1.3162,  0.6748,\n",
            "         0.3113, -0.5816], grad_fn=<SelectBackward>)\n",
            "tensor(1)\n",
            "-- Generation 14 --\n",
            "  Min 17.33623575106344\n",
            "  Max 32.49957122710134\n",
            "  Avg 17.906401890140405\n",
            "  Std 1.569597416394338\n",
            "tensor([-3.3837,  9.4736, -1.5316, -1.3225,  0.2420, -0.8423,  1.4158,  0.5138,\n",
            "         0.4639, -0.8011], grad_fn=<SelectBackward>)\n",
            "tensor(1)\n",
            "-- Generation 15 --\n",
            "  Min 17.2986527115429\n",
            "  Max 18.634022233899486\n",
            "  Avg 17.55556400118874\n",
            "  Std 0.16906998327157174\n",
            "tensor([-3.3043,  9.3712, -1.4041, -1.2626,  0.1383, -0.8525,  1.3823,  0.5021,\n",
            "         0.5082, -0.8905], grad_fn=<SelectBackward>)\n",
            "tensor(1)\n",
            "-- Generation 16 --\n",
            "  Min 17.254731930061325\n",
            "  Max 19.984381084986126\n",
            "  Avg 17.53762339259888\n",
            "  Std 0.3004945298456598\n",
            "tensor([-3.6147,  9.6769, -1.7174, -1.4218,  0.5124, -1.0223,  1.2997,  0.7556,\n",
            "         0.2567, -0.4991], grad_fn=<SelectBackward>)\n",
            "tensor(1)\n",
            "-- Generation 17 --\n",
            "  Min 17.260852913285817\n",
            "  Max 19.146475046764863\n",
            "  Avg 17.46392940683821\n",
            "  Std 0.2169289956491456\n",
            "tensor([-3.3643,  9.4810, -1.4838, -1.4239,  0.2537, -0.8905,  1.4805,  0.5092,\n",
            "         0.4873, -0.8428], grad_fn=<SelectBackward>)\n",
            "tensor(1)\n",
            "-- Generation 18 --\n",
            "  Min 17.204296004001662\n",
            "  Max 18.2484304007412\n",
            "  Avg 17.387921371123834\n",
            "  Std 0.1516534905252935\n",
            "tensor([-3.3357,  9.4282, -1.5141, -1.4202,  0.1904, -0.8732,  1.4217,  0.6405,\n",
            "         0.4112, -0.7976], grad_fn=<SelectBackward>)\n",
            "tensor(1)\n",
            "-- Generation 19 --\n",
            "  Min 17.081467423333606\n",
            "  Max 18.46062698535752\n",
            "  Avg 17.370193478845934\n",
            "  Std 0.19314832662968157\n",
            "tensor([-3.2384,  9.0581, -1.5734, -0.9744,  0.0819, -0.4640,  1.3484,  0.2157,\n",
            "         0.5604, -0.7808], grad_fn=<SelectBackward>)\n",
            "tensor(1)\n",
            "-- Generation 20 --\n",
            "  Min 17.04778413112058\n",
            "  Max 20.780029229095817\n",
            "  Avg 17.349530706590212\n",
            "  Std 0.362330857880257\n",
            "tensor([-3.4976,  9.5144, -1.6926, -1.5288,  0.5471, -0.9661,  1.3810,  0.5713,\n",
            "         0.3532, -0.5034], grad_fn=<SelectBackward>)\n",
            "tensor(1)\n",
            "(17.04778413112058,)\n"
          ],
          "name": "stdout"
        },
        {
          "output_type": "display_data",
          "data": {
            "image/png": "[encoded data removed]",
            "text/plain": [
              "<Figure size 432x288 with 1 Axes>"
            ]
          },
          "metadata": {
            "tags": []
          }
        },
        {
          "output_type": "display_data",
          "data": {
            "image/png": "[encoded data removed]",
            "text/plain": [
              "<Figure size 432x288 with 1 Axes>"
            ]
          },
          "metadata": {
            "tags": []
          }
        },
        {
          "output_type": "stream",
          "text": [
            "-- Generation 21 --\n",
            "  Min 16.925755864378743\n",
            "  Max 19.64833608622962\n",
            "  Avg 17.350414428784006\n",
            "  Std 0.33491641291813734\n",
            "tensor([-3.6204,  9.6695, -1.7212, -1.3727,  0.4418, -1.0481,  1.1191,  0.9766,\n",
            "         0.1272, -0.3668], grad_fn=<SelectBackward>)\n",
            "tensor(1)\n",
            "-- Generation 22 --\n",
            "  Min 16.925755864378743\n",
            "  Max 17.878969291587282\n",
            "  Avg 17.233580716469035\n",
            "  Std 0.15768810974529554\n",
            "tensor([-3.6204,  9.6695, -1.7212, -1.3727,  0.4418, -1.0481,  1.1191,  0.9766,\n",
            "         0.1272, -0.3668], grad_fn=<SelectBackward>)\n",
            "tensor(1)\n",
            "-- Generation 23 --\n",
            "  Min 16.885971396814284\n",
            "  Max 18.409005423646022\n",
            "  Avg 17.17843413116276\n",
            "  Std 0.2024970072572408\n",
            "tensor([-3.7496,  9.8694, -1.7977, -1.2906,  0.6780, -1.3981,  0.7231,  1.2303,\n",
            "         0.0939, -0.0819], grad_fn=<SelectBackward>)\n",
            "tensor(1)\n",
            "-- Generation 24 --\n",
            "  Min 16.879713508832538\n",
            "  Max 18.06280803811751\n",
            "  Avg 17.093438847588303\n",
            "  Std 0.1800806142111987\n",
            "tensor([-3.6396,  9.6854, -1.7086, -1.3748,  0.4468, -1.1101,  0.9835,  1.0530,\n",
            "         0.1259, -0.2626], grad_fn=<SelectBackward>)\n",
            "tensor(1)\n",
            "-- Generation 25 --\n",
            "  Min 16.808251464539353\n",
            "  Max 18.503323436562823\n",
            "  Avg 17.050369742190334\n",
            "  Std 0.22060234933598477\n",
            "tensor([-3.4530,  9.4646, -1.7257, -1.1805,  0.3914, -0.9042,  1.0712,  0.5825,\n",
            "         0.4289, -0.4029], grad_fn=<SelectBackward>)\n",
            "tensor(1)\n",
            "-- Generation 26 --\n",
            "  Min 16.757157186658333\n",
            "  Max 17.572979200872396\n",
            "  Avg 16.983183521216144\n",
            "  Std 0.14289533507321284\n",
            "tensor([-3.6220,  9.2179, -1.9216, -1.0189,  0.4432, -0.5224,  1.1671,  0.5949,\n",
            "         0.1374, -0.2905], grad_fn=<SelectBackward>)\n",
            "tensor(1)\n",
            "-- Generation 27 --\n",
            "  Min 16.747800810844865\n",
            "  Max 18.35382788253719\n",
            "  Avg 16.941095526632882\n",
            "  Std 0.1959052293639574\n",
            "tensor([-3.6394,  9.5890, -1.8540, -1.0267,  0.7088, -1.4471,  0.3239,  1.3082,\n",
            "         0.1269,  0.1336], grad_fn=<SelectBackward>)\n",
            "tensor(1)\n",
            "-- Generation 28 --\n",
            "  Min 16.74071403209041\n",
            "  Max 17.652164991801556\n",
            "  Avg 16.90473096502282\n",
            "  Std 0.15714861166983038\n",
            "tensor([-3.5928,  9.1336, -1.9699, -0.8987,  0.4460, -0.4288,  1.1666,  0.4950,\n",
            "         0.1451, -0.2880], grad_fn=<SelectBackward>)\n",
            "tensor(1)\n",
            "-- Generation 29 --\n",
            "  Min 16.668445245599287\n",
            "  Max 17.79085168536767\n",
            "  Avg 16.88173673051736\n",
            "  Std 0.19520740396870134\n",
            "tensor([-3.6062,  9.1420, -1.9500, -0.9012,  0.4346, -0.4519,  1.1033,  0.5263,\n",
            "         0.1548, -0.2459], grad_fn=<SelectBackward>)\n",
            "tensor(1)\n",
            "-- Generation 30 --\n",
            "  Min 16.666607532712078\n",
            "  Max 19.44268208515132\n",
            "  Avg 16.870164635161586\n",
            "  Std 0.30848805539449775\n",
            "tensor([-3.8784,  9.3349, -2.1252, -0.5865,  0.7789, -1.0340,  0.2343,  1.3330,\n",
            "        -0.1060,  0.3033], grad_fn=<SelectBackward>)\n",
            "tensor(1)\n",
            "(16.666607532712078,)\n"
          ],
          "name": "stdout"
        },
        {
          "output_type": "display_data",
          "data": {
            "image/png": "[encoded data removed]",
            "text/plain": [
              "<Figure size 432x288 with 1 Axes>"
            ]
          },
          "metadata": {
            "tags": []
          }
        },
        {
          "output_type": "display_data",
          "data": {
            "image/png": "[encoded data removed]",
            "text/plain": [
              "<Figure size 432x288 with 1 Axes>"
            ]
          },
          "metadata": {
            "tags": []
          }
        },
        {
          "output_type": "stream",
          "text": [
            "-- Generation 31 --\n",
            "  Min 16.53965052078115\n",
            "  Max 17.326397516728548\n",
            "  Avg 16.80412645449012\n",
            "  Std 0.1326821677634731\n",
            "tensor([-3.6558,  9.1919, -1.9899, -0.9573,  0.5096, -0.5176,  1.0668,  0.5737,\n",
            "         0.1059, -0.1327], grad_fn=<SelectBackward>)\n",
            "tensor(1)\n",
            "-- Generation 32 --\n",
            "  Min 16.609113456812338\n",
            "  Max 17.41508194914445\n",
            "  Avg 16.777259204157716\n",
            "  Std 0.1562052311990446\n",
            "tensor([-3.6896,  8.7882, -2.2280, -0.5355,  0.5110, -0.0404,  1.0856,  0.4128,\n",
            "        -0.0321, -0.0764], grad_fn=<SelectBackward>)\n",
            "tensor(1)\n",
            "-- Generation 33 --\n",
            "  Min 16.568220207249396\n",
            "  Max 17.4135537338409\n",
            "  Avg 16.759580980388584\n",
            "  Std 0.1472110873115096\n",
            "tensor([-3.8474,  9.1925, -2.2317, -0.6561,  0.6674, -0.4226,  0.8571,  0.6789,\n",
            "        -0.0869,  0.1176], grad_fn=<SelectBackward>)\n",
            "tensor(1)\n",
            "-- Generation 34 --\n",
            "  Min 16.565312834069346\n",
            "  Max 18.418102636500407\n",
            "  Avg 16.76970636004185\n",
            "  Std 0.23903889976249676\n",
            "tensor([-3.9896,  9.6643, -2.1147, -0.8797,  0.9094, -1.3129,  0.2018,  1.5262,\n",
            "        -0.1087,  0.4161], grad_fn=<SelectBackward>)\n",
            "tensor(1)\n",
            "-- Generation 35 --\n",
            "  Min 16.53783155657584\n",
            "  Max 17.328160094295754\n",
            "  Avg 16.716587232354524\n",
            "  Std 0.138601531341394\n",
            "tensor([-3.7869,  8.9558, -2.2946, -0.3382,  0.7131, -0.3308,  0.6539,  0.5887,\n",
            "        -0.1150,  0.2225], grad_fn=<SelectBackward>)\n",
            "tensor(1)\n",
            "-- Generation 36 --\n",
            "  Min 16.48783955784529\n",
            "  Max 20.807335113486488\n",
            "  Avg 16.70474049877593\n",
            "  Std 0.42549593824513837\n",
            "tensor([-3.8152,  9.2370, -2.0488, -0.6518,  0.5264, -0.7174,  0.5918,  1.1330,\n",
            "        -0.1528,  0.1175], grad_fn=<SelectBackward>)\n",
            "tensor(1)\n",
            "-- Generation 37 --\n",
            "  Min 16.487514276537695\n",
            "  Max 17.342823926105666\n",
            "  Avg 16.655027337763116\n",
            "  Std 0.1484740037709568\n",
            "tensor([-4.0046,  9.1694, -2.2541, -0.3758,  0.7081, -0.5447,  0.3672,  1.0286,\n",
            "        -0.1448,  0.3470], grad_fn=<SelectBackward>)\n",
            "tensor(1)\n",
            "-- Generation 38 --\n",
            "  Min 16.409095292130814\n",
            "  Max 17.385405185456193\n",
            "  Avg 16.610628394330394\n",
            "  Std 0.13264182845548106\n",
            "tensor([-3.6743,  9.0485, -2.0208, -0.7363,  0.5253, -0.3172,  1.0917,  0.3727,\n",
            "         0.1376, -0.1801], grad_fn=<SelectBackward>)\n",
            "tensor(1)\n",
            "-- Generation 39 --\n",
            "  Min 16.386422532196775\n",
            "  Max 16.926748525497715\n",
            "  Avg 16.562752733391054\n",
            "  Std 0.08366108263853637\n",
            "tensor([-3.6246,  8.9498, -2.0468, -0.6325,  0.3164, -0.1168,  1.0994,  0.4270,\n",
            "         0.1363, -0.2606], grad_fn=<SelectBackward>)\n",
            "tensor(1)\n",
            "-- Generation 40 --\n",
            "  Min 16.233335099722353\n",
            "  Max 18.104417296359316\n",
            "  Avg 16.551047253194188\n",
            "  Std 0.19673244273104687\n",
            "tensor([-3.8426,  8.9943, -2.2028, -0.4218,  0.5183, -0.3279,  0.6101,  0.8707,\n",
            "        -0.1080,  0.1596], grad_fn=<SelectBackward>)\n",
            "tensor(1)\n",
            "(16.233335099722353,)\n"
          ],
          "name": "stdout"
        },
        {
          "output_type": "display_data",
          "data": {
            "image/png": "[encoded data removed]",
            "text/plain": [
              "<Figure size 432x288 with 1 Axes>"
            ]
          },
          "metadata": {
            "tags": []
          }
        },
        {
          "output_type": "display_data",
          "data": {
            "image/png": "[encoded data removed]",
            "text/plain": [
              "<Figure size 432x288 with 1 Axes>"
            ]
          },
          "metadata": {
            "tags": []
          }
        },
        {
          "output_type": "stream",
          "text": [
            "-- Generation 41 --\n",
            "  Min 16.199140287085356\n",
            "  Max 16.846159370369605\n",
            "  Avg 16.477552840111862\n",
            "  Std 0.12484647128563194\n",
            "tensor([-3.8475,  9.0667, -2.1716, -0.5510,  0.5617, -0.4676,  0.5902,  0.9726,\n",
            "        -0.0993,  0.1874], grad_fn=<SelectBackward>)\n",
            "tensor(1)\n",
            "-- Generation 42 --\n",
            "  Min 16.223688236061435\n",
            "  Max 17.845386522342096\n",
            "  Avg 16.48404521435627\n",
            "  Std 0.23416204334060658\n",
            "tensor([-3.8527,  9.0048, -2.2092, -0.4308,  0.5285, -0.3297,  0.6183,  0.8748,\n",
            "        -0.1185,  0.1654], grad_fn=<SelectBackward>)\n",
            "tensor(1)\n",
            "-- Generation 43 --\n",
            "  Min 16.217135690469377\n",
            "  Max 16.730465051697138\n",
            "  Avg 16.388885055624836\n",
            "  Std 0.12059144866757236\n",
            "tensor([-3.8727,  9.1286, -2.1628, -0.5580,  0.5573, -0.4808,  0.6245,  0.9728,\n",
            "        -0.1061,  0.1553], grad_fn=<SelectBackward>)\n",
            "tensor(1)\n",
            "-- Generation 44 --\n",
            "  Min 16.166684007680487\n",
            "  Max 16.681584728467897\n",
            "  Avg 16.34549854613134\n",
            "  Std 0.12168609866633699\n",
            "tensor([-3.9073,  8.8087, -2.3785, -0.0819,  0.6631, -0.2392,  0.4211,  0.8572,\n",
            "        -0.2390,  0.3818], grad_fn=<SelectBackward>)\n",
            "tensor(1)\n",
            "-- Generation 45 --\n",
            "  Min 16.18196049228777\n",
            "  Max 19.547437732603612\n",
            "  Avg 16.346851712158887\n",
            "  Std 0.37671770184010034\n",
            "tensor([-3.9031,  9.1702, -2.1688, -0.5663,  0.5765, -0.5361,  0.5392,  1.0250,\n",
            "        -0.1141,  0.2380], grad_fn=<SelectBackward>)\n",
            "tensor(1)\n",
            "-- Generation 46 --\n",
            "  Min 16.18196049228777\n",
            "  Max 16.87292401329637\n",
            "  Avg 16.28678149128986\n",
            "  Std 0.12385069942559498\n",
            "tensor([-3.9031,  9.1702, -2.1688, -0.5663,  0.5765, -0.5361,  0.5392,  1.0250,\n",
            "        -0.1141,  0.2380], grad_fn=<SelectBackward>)\n",
            "tensor(1)\n",
            "-- Generation 47 --\n",
            "  Min 16.154404385399403\n",
            "  Max 17.481341110907124\n",
            "  Avg 16.274871745390488\n",
            "  Std 0.16405020512245747\n",
            "tensor([-4.0262,  9.0596, -2.3905, -0.3317,  0.7370, -0.3645,  0.5142,  1.0582,\n",
            "        -0.2678,  0.3414], grad_fn=<SelectBackward>)\n",
            "tensor(1)\n",
            "-- Generation 48 --\n",
            "  Min 16.153683778248023\n",
            "  Max 17.315538206196152\n",
            "  Avg 16.27781869884248\n",
            "  Std 0.17258051696209542\n",
            "tensor([-4.0285,  9.0925, -2.3790, -0.3511,  0.7437, -0.3927,  0.5317,  1.0686,\n",
            "        -0.2702,  0.3203], grad_fn=<SelectBackward>)\n",
            "tensor(1)\n",
            "-- Generation 49 --\n",
            "  Min 16.129139077395166\n",
            "  Max 17.869828846829478\n",
            "  Avg 16.27795455687395\n",
            "  Std 0.23172024720347006\n",
            "tensor([-3.9939,  9.0770, -2.3777, -0.3292,  0.7319, -0.4381,  0.4303,  1.1037,\n",
            "        -0.2551,  0.3696], grad_fn=<SelectBackward>)\n",
            "tensor(1)\n",
            "-- Generation 50 --\n",
            "  Min 16.109680580193753\n",
            "  Max 16.999185243363172\n",
            "  Avg 16.228947049557867\n",
            "  Std 0.12819731706816687\n",
            "tensor([-3.9876,  9.1131, -2.3446, -0.4110,  0.7398, -0.5001,  0.4601,  1.1436,\n",
            "        -0.2615,  0.3517], grad_fn=<SelectBackward>)\n",
            "tensor(1)\n",
            "(16.109680580193753,)\n"
          ],
          "name": "stdout"
        },
        {
          "output_type": "display_data",
          "data": {
            "image/png": "[encoded data removed]",
            "text/plain": [
              "<Figure size 432x288 with 1 Axes>"
            ]
          },
          "metadata": {
            "tags": []
          }
        },
        {
          "output_type": "display_data",
          "data": {
            "image/png": "[encoded data removed]",
            "text/plain": [
              "<Figure size 432x288 with 1 Axes>"
            ]
          },
          "metadata": {
            "tags": []
          }
        },
        {
          "output_type": "stream",
          "text": [
            "-- Generation 51 --\n",
            "  Min 16.046641913425447\n",
            "  Max 16.686835737972615\n",
            "  Avg 16.226996351400132\n",
            "  Std 0.1289140220091123\n",
            "tensor([-3.9192e+00,  8.6965e+00, -2.4513e+00, -9.2953e-02,  6.2839e-01,\n",
            "        -5.3897e-03,  6.0522e-01,  8.0908e-01, -2.7954e-01,  2.8103e-01],\n",
            "       grad_fn=<SelectBackward>)\n",
            "tensor(1)\n",
            "-- Generation 52 --\n",
            "  Min 16.087609683574783\n",
            "  Max 17.13551668686364\n",
            "  Avg 16.22478993478429\n",
            "  Std 0.1520312289936661\n",
            "tensor([-3.9155,  8.7328, -2.4298, -0.1736,  0.6474, -0.0720,  0.6157,  0.8518,\n",
            "        -0.2729,  0.2826], grad_fn=<SelectBackward>)\n",
            "tensor(1)\n",
            "-- Generation 53 --\n",
            "  Min 16.065756509666244\n",
            "  Max 16.679041324374566\n",
            "  Avg 16.17914290041716\n",
            "  Std 0.10504272466417834\n",
            "tensor([-3.9141,  8.6702, -2.4595, -0.1066,  0.6349,  0.0361,  0.6630,  0.7699,\n",
            "        -0.2812,  0.2557], grad_fn=<SelectBackward>)\n",
            "tensor(1)\n",
            "-- Generation 54 --\n",
            "  Min 16.073100425046732\n",
            "  Max 16.658043258390535\n",
            "  Avg 16.169231808237143\n",
            "  Std 0.10270078581508113\n",
            "tensor([-3.9671,  8.7426, -2.4838,  0.0654,  0.6576, -0.2224,  0.1091,  1.0677,\n",
            "        -0.2737,  0.5965], grad_fn=<SelectBackward>)\n",
            "tensor(1)\n",
            "-- Generation 55 --\n",
            "  Min 16.069196969052427\n",
            "  Max 17.041941200368683\n",
            "  Avg 16.17981098470925\n",
            "  Std 0.16091450353453723\n",
            "tensor([-3.9454,  9.1509, -2.2105, -0.4458,  0.6030, -0.5424,  0.4049,  1.1122,\n",
            "        -0.1627,  0.3255], grad_fn=<SelectBackward>)\n",
            "tensor(1)\n",
            "-- Generation 56 --\n",
            "  Min 15.97917090687497\n",
            "  Max 16.612292873128354\n",
            "  Avg 16.144637157599472\n",
            "  Std 0.09521748585578538\n",
            "tensor([-3.8974,  8.9788, -2.2397, -0.1810,  0.4914, -0.1915,  0.4887,  0.7812,\n",
            "        -0.1134,  0.2288], grad_fn=<SelectBackward>)\n",
            "tensor(1)\n",
            "-- Generation 57 --\n",
            "  Min 15.955277267352358\n",
            "  Max 17.10478941243855\n",
            "  Avg 16.14138074420079\n",
            "  Std 0.13021864274145883\n",
            "tensor([-3.9188,  9.0513, -2.3100, -0.5159,  0.5267,  0.0761,  1.3238,  0.3613,\n",
            "        -0.0831, -0.1315], grad_fn=<SelectBackward>)\n",
            "tensor(1)\n",
            "-- Generation 58 --\n"
          ],
          "name": "stdout"
        },
        {
          "output_type": "error",
          "ename": "KeyboardInterrupt",
          "evalue": "ignored",
          "traceback": [
            "\u001b[0;31m---------------------------------------------------------------------------\u001b[0m",
            "\u001b[0;31mKeyboardInterrupt\u001b[0m                         Traceback (most recent call last)",
            "\u001b[0;32m<ipython-input-167-6572b3db255e>\u001b[0m in \u001b[0;36m<module>\u001b[0;34m()\u001b[0m\n\u001b[0;32m----> 1\u001b[0;31m \u001b[0moutput\u001b[0m \u001b[0;34m=\u001b[0m \u001b[0mnp\u001b[0m\u001b[0;34m.\u001b[0m\u001b[0marray\u001b[0m\u001b[0;34m(\u001b[0m\u001b[0mmain\u001b[0m\u001b[0;34m(\u001b[0m\u001b[0;34m)\u001b[0m\u001b[0;34m)\u001b[0m\u001b[0;34m\u001b[0m\u001b[0;34m\u001b[0m\u001b[0m\n\u001b[0m\u001b[1;32m      2\u001b[0m \u001b[0;34m\u001b[0m\u001b[0m\n\u001b[1;32m      3\u001b[0m \u001b[0mz\u001b[0m \u001b[0;34m=\u001b[0m \u001b[0mtorch\u001b[0m\u001b[0;34m.\u001b[0m\u001b[0mfrom_numpy\u001b[0m\u001b[0;34m(\u001b[0m\u001b[0moutput\u001b[0m\u001b[0;34m)\u001b[0m\u001b[0;34m.\u001b[0m\u001b[0mview\u001b[0m\u001b[0;34m(\u001b[0m\u001b[0;36m1\u001b[0m\u001b[0;34m,\u001b[0m \u001b[0;36m100\u001b[0m\u001b[0;34m,\u001b[0m \u001b[0;36m1\u001b[0m\u001b[0;34m,\u001b[0m \u001b[0;36m1\u001b[0m\u001b[0;34m)\u001b[0m\u001b[0;34m\u001b[0m\u001b[0;34m\u001b[0m\u001b[0m\n\u001b[1;32m      4\u001b[0m \u001b[0;34m\u001b[0m\u001b[0m\n\u001b[1;32m      5\u001b[0m \u001b[0mgen_image\u001b[0m \u001b[0;34m=\u001b[0m \u001b[0mnetG\u001b[0m\u001b[0;34m(\u001b[0m\u001b[0mz\u001b[0m\u001b[0;34m)\u001b[0m  \u001b[0;31m# torch.Size([1, 28, 28]). This is the generated image that we want to see for each generation.\u001b[0m\u001b[0;34m\u001b[0m\u001b[0;34m\u001b[0m\u001b[0m\n",
            "\u001b[0;32m<ipython-input-166-e346834f0633>\u001b[0m in \u001b[0;36mmain\u001b[0;34m()\u001b[0m\n\u001b[1;32m     72\u001b[0m         \u001b[0minvalid_ind\u001b[0m \u001b[0;34m=\u001b[0m \u001b[0;34m[\u001b[0m\u001b[0mind\u001b[0m \u001b[0;32mfor\u001b[0m \u001b[0mind\u001b[0m \u001b[0;32min\u001b[0m \u001b[0moffspring\u001b[0m \u001b[0;32mif\u001b[0m \u001b[0;32mnot\u001b[0m \u001b[0mind\u001b[0m\u001b[0;34m.\u001b[0m\u001b[0mfitness\u001b[0m\u001b[0;34m.\u001b[0m\u001b[0mvalid\u001b[0m\u001b[0;34m]\u001b[0m\u001b[0;34m\u001b[0m\u001b[0;34m\u001b[0m\u001b[0m\n\u001b[1;32m     73\u001b[0m         \u001b[0mfitnesses\u001b[0m \u001b[0;34m=\u001b[0m \u001b[0mmap\u001b[0m\u001b[0;34m(\u001b[0m\u001b[0mtoolbox\u001b[0m\u001b[0;34m.\u001b[0m\u001b[0mevaluate\u001b[0m\u001b[0;34m,\u001b[0m \u001b[0minvalid_ind\u001b[0m\u001b[0;34m)\u001b[0m\u001b[0;34m\u001b[0m\u001b[0;34m\u001b[0m\u001b[0m\n\u001b[0;32m---> 74\u001b[0;31m         \u001b[0;32mfor\u001b[0m \u001b[0mind\u001b[0m\u001b[0;34m,\u001b[0m \u001b[0mfit\u001b[0m \u001b[0;32min\u001b[0m \u001b[0mzip\u001b[0m\u001b[0;34m(\u001b[0m\u001b[0minvalid_ind\u001b[0m\u001b[0;34m,\u001b[0m \u001b[0mfitnesses\u001b[0m\u001b[0;34m)\u001b[0m\u001b[0;34m:\u001b[0m\u001b[0;34m\u001b[0m\u001b[0;34m\u001b[0m\u001b[0m\n\u001b[0m\u001b[1;32m     75\u001b[0m             \u001b[0mind\u001b[0m\u001b[0;34m.\u001b[0m\u001b[0mfitness\u001b[0m\u001b[0;34m.\u001b[0m\u001b[0mvalues\u001b[0m \u001b[0;34m=\u001b[0m \u001b[0mfit\u001b[0m\u001b[0;34m\u001b[0m\u001b[0;34m\u001b[0m\u001b[0m\n\u001b[1;32m     76\u001b[0m \u001b[0;34m\u001b[0m\u001b[0m\n",
            "\u001b[0;32m<ipython-input-158-f89ee9681e10>\u001b[0m in \u001b[0;36mevalFunc\u001b[0;34m(individual)\u001b[0m\n\u001b[1;32m      9\u001b[0m \u001b[0;32mdef\u001b[0m \u001b[0mevalFunc\u001b[0m\u001b[0;34m(\u001b[0m\u001b[0mindividual\u001b[0m\u001b[0;34m)\u001b[0m\u001b[0;34m:\u001b[0m\u001b[0;34m\u001b[0m\u001b[0;34m\u001b[0m\u001b[0m\n\u001b[1;32m     10\u001b[0m     \u001b[0mindividual\u001b[0m \u001b[0;34m=\u001b[0m \u001b[0mtorch\u001b[0m\u001b[0;34m.\u001b[0m\u001b[0mfrom_numpy\u001b[0m\u001b[0;34m(\u001b[0m\u001b[0mindividual\u001b[0m\u001b[0;34m)\u001b[0m\u001b[0;34m.\u001b[0m\u001b[0mview\u001b[0m\u001b[0;34m(\u001b[0m\u001b[0;36m1\u001b[0m\u001b[0;34m,\u001b[0m \u001b[0;36m100\u001b[0m\u001b[0;34m,\u001b[0m \u001b[0;36m1\u001b[0m\u001b[0;34m,\u001b[0m \u001b[0;36m1\u001b[0m\u001b[0;34m)\u001b[0m\u001b[0;34m\u001b[0m\u001b[0;34m\u001b[0m\u001b[0m\n\u001b[0;32m---> 11\u001b[0;31m     \u001b[0;32mreturn\u001b[0m \u001b[0mnp\u001b[0m\u001b[0;34m.\u001b[0m\u001b[0mlinalg\u001b[0m\u001b[0;34m.\u001b[0m\u001b[0mnorm\u001b[0m\u001b[0;34m(\u001b[0m\u001b[0mnetG\u001b[0m\u001b[0;34m(\u001b[0m\u001b[0mindividual\u001b[0m\u001b[0;34m)\u001b[0m\u001b[0;34m.\u001b[0m\u001b[0mview\u001b[0m\u001b[0;34m(\u001b[0m\u001b[0;36m28\u001b[0m\u001b[0;34m,\u001b[0m \u001b[0;36m28\u001b[0m\u001b[0;34m)\u001b[0m\u001b[0;34m.\u001b[0m\u001b[0mdetach\u001b[0m\u001b[0;34m(\u001b[0m\u001b[0;34m)\u001b[0m\u001b[0;34m.\u001b[0m\u001b[0mnumpy\u001b[0m\u001b[0;34m(\u001b[0m\u001b[0;34m)\u001b[0m \u001b[0;34m-\u001b[0m \u001b[0mx\u001b[0m\u001b[0;34m,\u001b[0m \u001b[0mord\u001b[0m\u001b[0;34m=\u001b[0m\u001b[0;36m2\u001b[0m\u001b[0;34m)\u001b[0m\u001b[0;34m**\u001b[0m\u001b[0;36m2\u001b[0m\u001b[0;34m,\u001b[0m\u001b[0;34m\u001b[0m\u001b[0;34m\u001b[0m\u001b[0m\n\u001b[0m\u001b[1;32m     12\u001b[0m \u001b[0;34m\u001b[0m\u001b[0m\n\u001b[1;32m     13\u001b[0m \u001b[0;31m# Initial population for GA\u001b[0m\u001b[0;34m\u001b[0m\u001b[0;34m\u001b[0m\u001b[0;34m\u001b[0m\u001b[0m\n",
            "\u001b[0;32m/usr/local/lib/python3.6/dist-packages/torch/nn/modules/module.py\u001b[0m in \u001b[0;36m__call__\u001b[0;34m(self, *input, **kwargs)\u001b[0m\n\u001b[1;32m    539\u001b[0m             \u001b[0mresult\u001b[0m \u001b[0;34m=\u001b[0m \u001b[0mself\u001b[0m\u001b[0;34m.\u001b[0m\u001b[0m_slow_forward\u001b[0m\u001b[0;34m(\u001b[0m\u001b[0;34m*\u001b[0m\u001b[0minput\u001b[0m\u001b[0;34m,\u001b[0m \u001b[0;34m**\u001b[0m\u001b[0mkwargs\u001b[0m\u001b[0;34m)\u001b[0m\u001b[0;34m\u001b[0m\u001b[0;34m\u001b[0m\u001b[0m\n\u001b[1;32m    540\u001b[0m         \u001b[0;32melse\u001b[0m\u001b[0;34m:\u001b[0m\u001b[0;34m\u001b[0m\u001b[0;34m\u001b[0m\u001b[0m\n\u001b[0;32m--> 541\u001b[0;31m             \u001b[0mresult\u001b[0m \u001b[0;34m=\u001b[0m \u001b[0mself\u001b[0m\u001b[0;34m.\u001b[0m\u001b[0mforward\u001b[0m\u001b[0;34m(\u001b[0m\u001b[0;34m*\u001b[0m\u001b[0minput\u001b[0m\u001b[0;34m,\u001b[0m \u001b[0;34m**\u001b[0m\u001b[0mkwargs\u001b[0m\u001b[0;34m)\u001b[0m\u001b[0;34m\u001b[0m\u001b[0;34m\u001b[0m\u001b[0m\n\u001b[0m\u001b[1;32m    542\u001b[0m         \u001b[0;32mfor\u001b[0m \u001b[0mhook\u001b[0m \u001b[0;32min\u001b[0m \u001b[0mself\u001b[0m\u001b[0;34m.\u001b[0m\u001b[0m_forward_hooks\u001b[0m\u001b[0;34m.\u001b[0m\u001b[0mvalues\u001b[0m\u001b[0;34m(\u001b[0m\u001b[0;34m)\u001b[0m\u001b[0;34m:\u001b[0m\u001b[0;34m\u001b[0m\u001b[0;34m\u001b[0m\u001b[0m\n\u001b[1;32m    543\u001b[0m             \u001b[0mhook_result\u001b[0m \u001b[0;34m=\u001b[0m \u001b[0mhook\u001b[0m\u001b[0;34m(\u001b[0m\u001b[0mself\u001b[0m\u001b[0;34m,\u001b[0m \u001b[0minput\u001b[0m\u001b[0;34m,\u001b[0m \u001b[0mresult\u001b[0m\u001b[0;34m)\u001b[0m\u001b[0;34m\u001b[0m\u001b[0;34m\u001b[0m\u001b[0m\n",
            "\u001b[0;32m<ipython-input-155-3e7cf7887a23>\u001b[0m in \u001b[0;36mforward\u001b[0;34m(self, input)\u001b[0m\n\u001b[1;32m     29\u001b[0m \u001b[0;34m\u001b[0m\u001b[0m\n\u001b[1;32m     30\u001b[0m     \u001b[0;32mdef\u001b[0m \u001b[0mforward\u001b[0m\u001b[0;34m(\u001b[0m\u001b[0mself\u001b[0m\u001b[0;34m,\u001b[0m \u001b[0minput\u001b[0m\u001b[0;34m)\u001b[0m\u001b[0;34m:\u001b[0m\u001b[0;34m\u001b[0m\u001b[0;34m\u001b[0m\u001b[0m\n\u001b[0;32m---> 31\u001b[0;31m         \u001b[0;32mreturn\u001b[0m \u001b[0mself\u001b[0m\u001b[0;34m.\u001b[0m\u001b[0mmain\u001b[0m\u001b[0;34m(\u001b[0m\u001b[0minput\u001b[0m\u001b[0;34m)\u001b[0m\u001b[0;34m\u001b[0m\u001b[0;34m\u001b[0m\u001b[0m\n\u001b[0m\u001b[1;32m     32\u001b[0m \u001b[0;34m\u001b[0m\u001b[0m\n\u001b[1;32m     33\u001b[0m \u001b[0;32mclass\u001b[0m \u001b[0mClassifier_B\u001b[0m\u001b[0;34m(\u001b[0m\u001b[0mnn\u001b[0m\u001b[0;34m.\u001b[0m\u001b[0mModule\u001b[0m\u001b[0;34m)\u001b[0m\u001b[0;34m:\u001b[0m\u001b[0;34m\u001b[0m\u001b[0;34m\u001b[0m\u001b[0m\n",
            "\u001b[0;32m/usr/local/lib/python3.6/dist-packages/torch/nn/modules/module.py\u001b[0m in \u001b[0;36m__call__\u001b[0;34m(self, *input, **kwargs)\u001b[0m\n\u001b[1;32m    539\u001b[0m             \u001b[0mresult\u001b[0m \u001b[0;34m=\u001b[0m \u001b[0mself\u001b[0m\u001b[0;34m.\u001b[0m\u001b[0m_slow_forward\u001b[0m\u001b[0;34m(\u001b[0m\u001b[0;34m*\u001b[0m\u001b[0minput\u001b[0m\u001b[0;34m,\u001b[0m \u001b[0;34m**\u001b[0m\u001b[0mkwargs\u001b[0m\u001b[0;34m)\u001b[0m\u001b[0;34m\u001b[0m\u001b[0;34m\u001b[0m\u001b[0m\n\u001b[1;32m    540\u001b[0m         \u001b[0;32melse\u001b[0m\u001b[0;34m:\u001b[0m\u001b[0;34m\u001b[0m\u001b[0;34m\u001b[0m\u001b[0m\n\u001b[0;32m--> 541\u001b[0;31m             \u001b[0mresult\u001b[0m \u001b[0;34m=\u001b[0m \u001b[0mself\u001b[0m\u001b[0;34m.\u001b[0m\u001b[0mforward\u001b[0m\u001b[0;34m(\u001b[0m\u001b[0;34m*\u001b[0m\u001b[0minput\u001b[0m\u001b[0;34m,\u001b[0m \u001b[0;34m**\u001b[0m\u001b[0mkwargs\u001b[0m\u001b[0;34m)\u001b[0m\u001b[0;34m\u001b[0m\u001b[0;34m\u001b[0m\u001b[0m\n\u001b[0m\u001b[1;32m    542\u001b[0m         \u001b[0;32mfor\u001b[0m \u001b[0mhook\u001b[0m \u001b[0;32min\u001b[0m \u001b[0mself\u001b[0m\u001b[0;34m.\u001b[0m\u001b[0m_forward_hooks\u001b[0m\u001b[0;34m.\u001b[0m\u001b[0mvalues\u001b[0m\u001b[0;34m(\u001b[0m\u001b[0;34m)\u001b[0m\u001b[0;34m:\u001b[0m\u001b[0;34m\u001b[0m\u001b[0;34m\u001b[0m\u001b[0m\n\u001b[1;32m    543\u001b[0m             \u001b[0mhook_result\u001b[0m \u001b[0;34m=\u001b[0m \u001b[0mhook\u001b[0m\u001b[0;34m(\u001b[0m\u001b[0mself\u001b[0m\u001b[0;34m,\u001b[0m \u001b[0minput\u001b[0m\u001b[0;34m,\u001b[0m \u001b[0mresult\u001b[0m\u001b[0;34m)\u001b[0m\u001b[0;34m\u001b[0m\u001b[0;34m\u001b[0m\u001b[0m\n",
            "\u001b[0;32m/usr/local/lib/python3.6/dist-packages/torch/nn/modules/container.py\u001b[0m in \u001b[0;36mforward\u001b[0;34m(self, input)\u001b[0m\n\u001b[1;32m     90\u001b[0m     \u001b[0;32mdef\u001b[0m \u001b[0mforward\u001b[0m\u001b[0;34m(\u001b[0m\u001b[0mself\u001b[0m\u001b[0;34m,\u001b[0m \u001b[0minput\u001b[0m\u001b[0;34m)\u001b[0m\u001b[0;34m:\u001b[0m\u001b[0;34m\u001b[0m\u001b[0;34m\u001b[0m\u001b[0m\n\u001b[1;32m     91\u001b[0m         \u001b[0;32mfor\u001b[0m \u001b[0mmodule\u001b[0m \u001b[0;32min\u001b[0m \u001b[0mself\u001b[0m\u001b[0;34m.\u001b[0m\u001b[0m_modules\u001b[0m\u001b[0;34m.\u001b[0m\u001b[0mvalues\u001b[0m\u001b[0;34m(\u001b[0m\u001b[0;34m)\u001b[0m\u001b[0;34m:\u001b[0m\u001b[0;34m\u001b[0m\u001b[0;34m\u001b[0m\u001b[0m\n\u001b[0;32m---> 92\u001b[0;31m             \u001b[0minput\u001b[0m \u001b[0;34m=\u001b[0m \u001b[0mmodule\u001b[0m\u001b[0;34m(\u001b[0m\u001b[0minput\u001b[0m\u001b[0;34m)\u001b[0m\u001b[0;34m\u001b[0m\u001b[0;34m\u001b[0m\u001b[0m\n\u001b[0m\u001b[1;32m     93\u001b[0m         \u001b[0;32mreturn\u001b[0m \u001b[0minput\u001b[0m\u001b[0;34m\u001b[0m\u001b[0;34m\u001b[0m\u001b[0m\n\u001b[1;32m     94\u001b[0m \u001b[0;34m\u001b[0m\u001b[0m\n",
            "\u001b[0;32m/usr/local/lib/python3.6/dist-packages/torch/nn/modules/module.py\u001b[0m in \u001b[0;36m__call__\u001b[0;34m(self, *input, **kwargs)\u001b[0m\n\u001b[1;32m    539\u001b[0m             \u001b[0mresult\u001b[0m \u001b[0;34m=\u001b[0m \u001b[0mself\u001b[0m\u001b[0;34m.\u001b[0m\u001b[0m_slow_forward\u001b[0m\u001b[0;34m(\u001b[0m\u001b[0;34m*\u001b[0m\u001b[0minput\u001b[0m\u001b[0;34m,\u001b[0m \u001b[0;34m**\u001b[0m\u001b[0mkwargs\u001b[0m\u001b[0;34m)\u001b[0m\u001b[0;34m\u001b[0m\u001b[0;34m\u001b[0m\u001b[0m\n\u001b[1;32m    540\u001b[0m         \u001b[0;32melse\u001b[0m\u001b[0;34m:\u001b[0m\u001b[0;34m\u001b[0m\u001b[0;34m\u001b[0m\u001b[0m\n\u001b[0;32m--> 541\u001b[0;31m             \u001b[0mresult\u001b[0m \u001b[0;34m=\u001b[0m \u001b[0mself\u001b[0m\u001b[0;34m.\u001b[0m\u001b[0mforward\u001b[0m\u001b[0;34m(\u001b[0m\u001b[0;34m*\u001b[0m\u001b[0minput\u001b[0m\u001b[0;34m,\u001b[0m \u001b[0;34m**\u001b[0m\u001b[0mkwargs\u001b[0m\u001b[0;34m)\u001b[0m\u001b[0;34m\u001b[0m\u001b[0;34m\u001b[0m\u001b[0m\n\u001b[0m\u001b[1;32m    542\u001b[0m         \u001b[0;32mfor\u001b[0m \u001b[0mhook\u001b[0m \u001b[0;32min\u001b[0m \u001b[0mself\u001b[0m\u001b[0;34m.\u001b[0m\u001b[0m_forward_hooks\u001b[0m\u001b[0;34m.\u001b[0m\u001b[0mvalues\u001b[0m\u001b[0;34m(\u001b[0m\u001b[0;34m)\u001b[0m\u001b[0;34m:\u001b[0m\u001b[0;34m\u001b[0m\u001b[0;34m\u001b[0m\u001b[0m\n\u001b[1;32m    543\u001b[0m             \u001b[0mhook_result\u001b[0m \u001b[0;34m=\u001b[0m \u001b[0mhook\u001b[0m\u001b[0;34m(\u001b[0m\u001b[0mself\u001b[0m\u001b[0;34m,\u001b[0m \u001b[0minput\u001b[0m\u001b[0;34m,\u001b[0m \u001b[0mresult\u001b[0m\u001b[0;34m)\u001b[0m\u001b[0;34m\u001b[0m\u001b[0;34m\u001b[0m\u001b[0m\n",
            "\u001b[0;32m/usr/local/lib/python3.6/dist-packages/torch/nn/modules/batchnorm.py\u001b[0m in \u001b[0;36mforward\u001b[0;34m(self, input)\u001b[0m\n\u001b[1;32m     79\u001b[0m             \u001b[0minput\u001b[0m\u001b[0;34m,\u001b[0m \u001b[0mself\u001b[0m\u001b[0;34m.\u001b[0m\u001b[0mrunning_mean\u001b[0m\u001b[0;34m,\u001b[0m \u001b[0mself\u001b[0m\u001b[0;34m.\u001b[0m\u001b[0mrunning_var\u001b[0m\u001b[0;34m,\u001b[0m \u001b[0mself\u001b[0m\u001b[0;34m.\u001b[0m\u001b[0mweight\u001b[0m\u001b[0;34m,\u001b[0m \u001b[0mself\u001b[0m\u001b[0;34m.\u001b[0m\u001b[0mbias\u001b[0m\u001b[0;34m,\u001b[0m\u001b[0;34m\u001b[0m\u001b[0;34m\u001b[0m\u001b[0m\n\u001b[1;32m     80\u001b[0m             \u001b[0mself\u001b[0m\u001b[0;34m.\u001b[0m\u001b[0mtraining\u001b[0m \u001b[0;32mor\u001b[0m \u001b[0;32mnot\u001b[0m \u001b[0mself\u001b[0m\u001b[0;34m.\u001b[0m\u001b[0mtrack_running_stats\u001b[0m\u001b[0;34m,\u001b[0m\u001b[0;34m\u001b[0m\u001b[0;34m\u001b[0m\u001b[0m\n\u001b[0;32m---> 81\u001b[0;31m             exponential_average_factor, self.eps)\n\u001b[0m\u001b[1;32m     82\u001b[0m \u001b[0;34m\u001b[0m\u001b[0m\n\u001b[1;32m     83\u001b[0m     \u001b[0;32mdef\u001b[0m \u001b[0mextra_repr\u001b[0m\u001b[0;34m(\u001b[0m\u001b[0mself\u001b[0m\u001b[0;34m)\u001b[0m\u001b[0;34m:\u001b[0m\u001b[0;34m\u001b[0m\u001b[0;34m\u001b[0m\u001b[0m\n",
            "\u001b[0;32m/usr/local/lib/python3.6/dist-packages/torch/nn/functional.py\u001b[0m in \u001b[0;36mbatch_norm\u001b[0;34m(input, running_mean, running_var, weight, bias, training, momentum, eps)\u001b[0m\n\u001b[1;32m   1668\u001b[0m     return torch.batch_norm(\n\u001b[1;32m   1669\u001b[0m         \u001b[0minput\u001b[0m\u001b[0;34m,\u001b[0m \u001b[0mweight\u001b[0m\u001b[0;34m,\u001b[0m \u001b[0mbias\u001b[0m\u001b[0;34m,\u001b[0m \u001b[0mrunning_mean\u001b[0m\u001b[0;34m,\u001b[0m \u001b[0mrunning_var\u001b[0m\u001b[0;34m,\u001b[0m\u001b[0;34m\u001b[0m\u001b[0;34m\u001b[0m\u001b[0m\n\u001b[0;32m-> 1670\u001b[0;31m         \u001b[0mtraining\u001b[0m\u001b[0;34m,\u001b[0m \u001b[0mmomentum\u001b[0m\u001b[0;34m,\u001b[0m \u001b[0meps\u001b[0m\u001b[0;34m,\u001b[0m \u001b[0mtorch\u001b[0m\u001b[0;34m.\u001b[0m\u001b[0mbackends\u001b[0m\u001b[0;34m.\u001b[0m\u001b[0mcudnn\u001b[0m\u001b[0;34m.\u001b[0m\u001b[0menabled\u001b[0m\u001b[0;34m\u001b[0m\u001b[0;34m\u001b[0m\u001b[0m\n\u001b[0m\u001b[1;32m   1671\u001b[0m     )\n\u001b[1;32m   1672\u001b[0m \u001b[0;34m\u001b[0m\u001b[0m\n",
            "\u001b[0;31mKeyboardInterrupt\u001b[0m: "
          ]
        }
      ]
    },
    {
      "cell_type": "code",
      "metadata": {
        "id": "r-kY6ejWLCyl",
        "colab_type": "code",
        "outputId": "39d1a01f-864d-457d-ad14-94e4574a0bb9",
        "colab": {
          "base_uri": "https://localhost:8080/",
          "height": 102
        }
      },
      "source": [
        "#print(gen_image)\n",
        "print(my_classifier.get_output(gen_image.view(1, 1, 28, 28)))\n",
        "temp = my_classifier.get_output(gen_image.view(1, 1, 28, 28))[0]\n",
        "#temp = my_classifier(fgsm_image.view(1, 1, 28, 28))[0]\n",
        "print(temp)\n",
        "print(temp.max(0)[1])\n",
        "#print(gen_image)"
      ],
      "execution_count": 168,
      "outputs": [
        {
          "output_type": "stream",
          "text": [
            "tensor([[-4.1442,  8.1612,  0.0329, -2.6226,  0.0901, -2.2889, -0.7406,  2.5252,\n",
            "          2.3648,  0.0825]], grad_fn=<AddmmBackward>)\n",
            "tensor([-4.1442,  8.1612,  0.0329, -2.6226,  0.0901, -2.2889, -0.7406,  2.5252,\n",
            "         2.3648,  0.0825], grad_fn=<SelectBackward>)\n",
            "tensor(1)\n"
          ],
          "name": "stdout"
        }
      ]
    },
    {
      "cell_type": "code",
      "metadata": {
        "id": "FLsBiaKmcBfC",
        "colab_type": "code",
        "colab": {
          "base_uri": "https://localhost:8080/",
          "height": 527
        },
        "outputId": "d95d30e7-093d-435b-dc89-72c38efc1896"
      },
      "source": [
        "for i in range(10):\n",
        "  temp = my_classifier.get_output(fgsm_image.view(1, 1, 28, 28))[0]\n",
        "  print(temp)\n",
        "  print(temp.max(0)[1])"
      ],
      "execution_count": 169,
      "outputs": [
        {
          "output_type": "stream",
          "text": [
            "tensor([-0.8642,  1.5102,  0.3425,  0.5399, -0.7936, -0.9937, -1.4123,  1.5697,\n",
            "         1.0592,  0.1807], grad_fn=<SelectBackward>)\n",
            "tensor(7)\n",
            "tensor([-0.8642,  1.5102,  0.3425,  0.5399, -0.7936, -0.9937, -1.4123,  1.5697,\n",
            "         1.0592,  0.1807], grad_fn=<SelectBackward>)\n",
            "tensor(7)\n",
            "tensor([-0.8642,  1.5102,  0.3425,  0.5399, -0.7936, -0.9937, -1.4123,  1.5697,\n",
            "         1.0592,  0.1807], grad_fn=<SelectBackward>)\n",
            "tensor(7)\n",
            "tensor([-0.8642,  1.5102,  0.3425,  0.5399, -0.7936, -0.9937, -1.4123,  1.5697,\n",
            "         1.0592,  0.1807], grad_fn=<SelectBackward>)\n",
            "tensor(7)\n",
            "tensor([-0.8642,  1.5102,  0.3425,  0.5399, -0.7936, -0.9937, -1.4123,  1.5697,\n",
            "         1.0592,  0.1807], grad_fn=<SelectBackward>)\n",
            "tensor(7)\n",
            "tensor([-0.8642,  1.5102,  0.3425,  0.5399, -0.7936, -0.9937, -1.4123,  1.5697,\n",
            "         1.0592,  0.1807], grad_fn=<SelectBackward>)\n",
            "tensor(7)\n",
            "tensor([-0.8642,  1.5102,  0.3425,  0.5399, -0.7936, -0.9937, -1.4123,  1.5697,\n",
            "         1.0592,  0.1807], grad_fn=<SelectBackward>)\n",
            "tensor(7)\n",
            "tensor([-0.8642,  1.5102,  0.3425,  0.5399, -0.7936, -0.9937, -1.4123,  1.5697,\n",
            "         1.0592,  0.1807], grad_fn=<SelectBackward>)\n",
            "tensor(7)\n",
            "tensor([-0.8642,  1.5102,  0.3425,  0.5399, -0.7936, -0.9937, -1.4123,  1.5697,\n",
            "         1.0592,  0.1807], grad_fn=<SelectBackward>)\n",
            "tensor(7)\n",
            "tensor([-0.8642,  1.5102,  0.3425,  0.5399, -0.7936, -0.9937, -1.4123,  1.5697,\n",
            "         1.0592,  0.1807], grad_fn=<SelectBackward>)\n",
            "tensor(7)\n"
          ],
          "name": "stdout"
        }
      ]
    },
    {
      "cell_type": "code",
      "metadata": {
        "id": "PkpQFimDde1W",
        "colab_type": "code",
        "colab": {
          "base_uri": "https://localhost:8080/",
          "height": 527
        },
        "outputId": "638fedab-4498-43eb-b870-485a7e7458df"
      },
      "source": [
        "for i in range(10):\n",
        "  temp = my_classifier.get_output(gen_image.view(1, 1, 28, 28))[0]\n",
        "  print(temp)\n",
        "  print(temp.max(0)[1])"
      ],
      "execution_count": 138,
      "outputs": [
        {
          "output_type": "stream",
          "text": [
            "tensor([-4.1442,  8.1612,  0.0329, -2.6226,  0.0901, -2.2889, -0.7406,  2.5252,\n",
            "         2.3648,  0.0825], grad_fn=<SelectBackward>)\n",
            "tensor(1)\n",
            "tensor([-4.1442,  8.1612,  0.0329, -2.6226,  0.0901, -2.2889, -0.7406,  2.5252,\n",
            "         2.3648,  0.0825], grad_fn=<SelectBackward>)\n",
            "tensor(1)\n",
            "tensor([-4.1442,  8.1612,  0.0329, -2.6226,  0.0901, -2.2889, -0.7406,  2.5252,\n",
            "         2.3648,  0.0825], grad_fn=<SelectBackward>)\n",
            "tensor(1)\n",
            "tensor([-4.1442,  8.1612,  0.0329, -2.6226,  0.0901, -2.2889, -0.7406,  2.5252,\n",
            "         2.3648,  0.0825], grad_fn=<SelectBackward>)\n",
            "tensor(1)\n",
            "tensor([-4.1442,  8.1612,  0.0329, -2.6226,  0.0901, -2.2889, -0.7406,  2.5252,\n",
            "         2.3648,  0.0825], grad_fn=<SelectBackward>)\n",
            "tensor(1)\n",
            "tensor([-4.1442,  8.1612,  0.0329, -2.6226,  0.0901, -2.2889, -0.7406,  2.5252,\n",
            "         2.3648,  0.0825], grad_fn=<SelectBackward>)\n",
            "tensor(1)\n",
            "tensor([-4.1442,  8.1612,  0.0329, -2.6226,  0.0901, -2.2889, -0.7406,  2.5252,\n",
            "         2.3648,  0.0825], grad_fn=<SelectBackward>)\n",
            "tensor(1)\n",
            "tensor([-4.1442,  8.1612,  0.0329, -2.6226,  0.0901, -2.2889, -0.7406,  2.5252,\n",
            "         2.3648,  0.0825], grad_fn=<SelectBackward>)\n",
            "tensor(1)\n",
            "tensor([-4.1442,  8.1612,  0.0329, -2.6226,  0.0901, -2.2889, -0.7406,  2.5252,\n",
            "         2.3648,  0.0825], grad_fn=<SelectBackward>)\n",
            "tensor(1)\n",
            "tensor([-4.1442,  8.1612,  0.0329, -2.6226,  0.0901, -2.2889, -0.7406,  2.5252,\n",
            "         2.3648,  0.0825], grad_fn=<SelectBackward>)\n",
            "tensor(1)\n"
          ],
          "name": "stdout"
        }
      ]
    },
    {
      "cell_type": "code",
      "metadata": {
        "id": "QSjf4AsAkXH6",
        "colab_type": "code",
        "colab": {}
      },
      "source": [
        ""
      ],
      "execution_count": 0,
      "outputs": []
    }
  ]
}